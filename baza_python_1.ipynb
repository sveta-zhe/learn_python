{
  "nbformat": 4,
  "nbformat_minor": 0,
  "metadata": {
    "colab": {
      "provenance": []
    },
    "kernelspec": {
      "name": "python3",
      "display_name": "Python 3"
    },
    "language_info": {
      "name": "python"
    }
  },
  "cells": [
    {
      "cell_type": "markdown",
      "source": [
        "#Системное понимание работы Python"
      ],
      "metadata": {
        "id": "BYcuOvFRKn0M"
      }
    },
    {
      "cell_type": "markdown",
      "source": [
        "Научиться системному пониманию работы Python (и программирования в целом)\n",
        "— это как собирать пазл: нужно разобраться в отдельных кусочках, а потом увидеть,\n",
        "как они складываются в общую картину.\n",
        "\n",
        "Вот пошаговый план, который поможет тебе развить это понимание."
      ],
      "metadata": {
        "id": "0VjoTod1K9E4"
      }
    },
    {
      "cell_type": "markdown",
      "source": [
        "                                                           "
      ],
      "metadata": {
        "id": "8ea_4zcXPwVc"
      }
    },
    {
      "cell_type": "markdown",
      "source": [
        "##1. Освой базовые концепции по уровням"
      ],
      "metadata": {
        "id": "3ruUxi_BKdhY"
      }
    },
    {
      "cell_type": "markdown",
      "source": [
        "Прежде чем писать функции, разберись с основами:\n",
        "\n",
        "Уровень 1:\n",
        "Переменные и типы данных\n",
        "Какие бывают типы (int, float, str, bool, list, tuple, dict, set)?\n",
        "\n",
        "Как преобразовывать типы (int(\"5\"), str(10))?\n",
        "\n",
        "Как работают None, True/False?\n",
        "\n",
        "Уровень 2:\n",
        "Операции и структуры данных\n",
        "Как работают списки (list), кортежи (tuple), словари (dict)?\n",
        "\n",
        "Чем отличается mutable (изменяемый) от immutable (неизменяемый)?\n",
        "\n",
        "Как работают split(), join(), map(), filter()?\n",
        "\n",
        "Уровень 3:\n",
        "Управление потоком (циклы и условия)\n",
        "Как работают if-elif-else?\n",
        "\n",
        "Чем for отличается от while?\n",
        "\n",
        "Как работают break, continue, pass?\n",
        "\n",
        "Уровень 4:\n",
        "Функции и модульность\n",
        "Как объявлять функции (def)?\n",
        "\n",
        "Что такое return и чем отличается от print?\n",
        "\n",
        "Как работают аргументы (*args, **kwargs)?\n",
        "\n",
        "Уровень 5:\n",
        "Обработка ошибок и отладка\n",
        "Как ловить ошибки (try-except)?\n",
        "\n",
        "Как использовать print() для отладки?\n",
        "\n",
        "Как читать Traceback (стек вызовов при ошибке)?"
      ],
      "metadata": {
        "id": "IIDScI_6KXdf"
      }
    },
    {
      "cell_type": "markdown",
      "source": [
        "##2. Практика: от простого к сложному"
      ],
      "metadata": {
        "id": "jKN6V1zQLzUQ"
      }
    },
    {
      "cell_type": "markdown",
      "source": [
        "Шаг 1. Разбирай код по шагам\n",
        "Когда видишь код, разбирай его построчно и спрашивай себя:\n",
        "\n",
        "Что делает эта строка?\n",
        "\n",
        "Какой тип данных здесь?\n",
        "\n",
        "Какое значение у переменной после этой операции?"
      ],
      "metadata": {
        "id": "PzVzlrDRL4Yl"
      }
    },
    {
      "cell_type": "code",
      "source": [
        "def split_numbers(numbers):\n",
        "    parts = numbers.split()  # Что здесь происходит?\n",
        "    nums = tuple(map(int, parts))  # А здесь?\n",
        "    return nums"
      ],
      "metadata": {
        "id": "iVE8VYXjL8y8"
      },
      "execution_count": 2,
      "outputs": []
    },
    {
      "cell_type": "markdown",
      "source": [
        "numbers.split() → разбивает строку по пробелам (\"1 2\" → [\"1\", \"2\"]).\n",
        "\n",
        "map(int, parts) → применяет int() к каждому элементу ([\"1\", \"2\"] → [1, 2]).\n",
        "\n",
        "tuple(...) → делает кортеж ((1, 2)).\n",
        "\n",
        "Шаг 2. Пиши код вручную, а не копируй\n",
        "Попробуй самостоятельно написать функцию, даже если сначала не получается.\n",
        "\n",
        "Шаг 3. Экспериментируй в Python Shell / Jupyter Notebook\n",
        "Запускай код по частям и смотри, что происходит:"
      ],
      "metadata": {
        "id": "wtZkX72qOLsd"
      }
    },
    {
      "cell_type": "code",
      "source": [
        "text = \"1 2 3\"\n",
        "print(text.split())  # ['1', '2', '3']\n",
        "print(list(map(int, text.split())))  # [1, 2, 3]\n",
        "print(tuple(map(int, text.split())))  # (1, 2, 3)"
      ],
      "metadata": {
        "colab": {
          "base_uri": "https://localhost:8080/"
        },
        "id": "FfBAZlPcONuZ",
        "outputId": "8daf1612-9110-4cf6-e295-d223772aff8c"
      },
      "execution_count": 1,
      "outputs": [
        {
          "output_type": "stream",
          "name": "stdout",
          "text": [
            "['1', '2', '3']\n",
            "[1, 2, 3]\n",
            "(1, 2, 3)\n"
          ]
        }
      ]
    },
    {
      "cell_type": "markdown",
      "source": [
        "3. Учись на ошибках\n",
        "Частые ошибки новичков:\n",
        "Путают строки и числа\n",
        "\n",
        "\"5\" + \"10\" = \"510\" (конкатенация строк), а 5 + 10 = 15.\n",
        "\n",
        "Решение: всегда проверяй тип (type(x)).\n",
        "\n",
        "Не понимают изменяемость (mutable vs immutable)\n",
        "\n",
        "Список (list) можно изменить, кортеж (tuple) — нет.\n",
        "\n",
        "Решение: пробуй менять данные и смотри, что происходит.\n",
        "\n",
        "Забывают про return в функциях\n",
        "\n",
        "Если функция ничего не возвращает, то result = func() даст None.\n",
        "\n",
        "Неправильно работают с split() и join()\n",
        "\n",
        "split() разбивает строку, join() склеивает список в строку."
      ],
      "metadata": {
        "id": "We2AbrB4Oha9"
      }
    },
    {
      "cell_type": "markdown",
      "source": [
        "4. Как тренироваться?\n",
        "🔸 Задачи для отработки основ\n",
        "Разбор строк\n",
        "\n",
        "Напиши функцию, которая принимает строку чисел через запятую и возвращает сумму.\n",
        "\n",
        "Пример: \"10, 20, 30\" → 60.\n",
        "\n",
        "Работа со списками\n",
        "\n",
        "Дан список [1, 2, 3, 4]. Сделай из него [2, 4, 6, 8] (умножь каждый элемент на 2).\n",
        "\n",
        "Фильтрация данных\n",
        "\n",
        "Дан список [1, -2, 3, -4, 5]. Верни только положительные числа.\n",
        "\n",
        "Преобразование типов\n",
        "\n",
        "Дана строка \"5 10 15\". Преобразуй её в список чисел и найди среднее значение."
      ],
      "metadata": {
        "id": "tB8INPvxOpHI"
      }
    },
    {
      "cell_type": "markdown",
      "source": [
        " 5. Полезные ресурсы\n",
        "Интерактивные тренажёры:\n",
        "\n",
        "Codecademy (Python)\n",
        "\n",
        "LeetCode (простые задачи)\n",
        "\n",
        "Книги:\n",
        "\n",
        "«Изучаем Python» (Марк Лутц)\n",
        "\n",
        "«Python. К вершинам мастерства» (Лусиану Рамальо)\n",
        "\n",
        "YouTube-каналы:\n",
        "\n",
        "Python Tutor\n",
        "\n",
        "Сергей Немчинский\n",
        "\n",
        "🔹 Вывод\n",
        "Чтобы научиться системному пониманию:\n",
        "\n",
        "Разбирай код пошагово.\n",
        "\n",
        "Пиши код руками, а не копируй.\n",
        "\n",
        "Экспериментируй в Python Shell.\n",
        "\n",
        "Анализируй ошибки и исправляй их.\n",
        "\n",
        "Решай задачи от простых к сложным.\n",
        "\n",
        "Чем больше практики — тем быстрее начнёт получаться!"
      ],
      "metadata": {
        "id": "liHk5hJVO1fX"
      }
    },
    {
      "cell_type": "markdown",
      "source": [
        "##1. Основные типы данных в Python\n",
        "В Python есть несколько основных типов данных. Вот самые важные:\n",
        "\n",
        "Тип\tПример\tОписание\n",
        "\n",
        "*   Новый пункт\n",
        "*   Новый пункт\n",
        "\n",
        "\n",
        "int\t5, -10, 0\tЦелое число\n",
        "float\t3.14, -0.5\tЧисло с плавающей точкой\n",
        "str\t\"Привет\", '123'\tСтрока (текст)\n",
        "bool\tTrue, False\tЛогический тип (истина/ложь)\n",
        "list\t[1, 2, 3]\tСписок (изменяемый)\n",
        "tuple\t(1, 2, 3)\tКортеж (неизменяемый)\n",
        "dict\t{\"name\": \"Anna\"}\tСловарь (ключ → значение)\n",
        "set\t{1, 2, 3}\tМножество (уникальные элементы)\n"
      ],
      "metadata": {
        "id": "LHuQZX8sPPqR"
      }
    },
    {
      "cell_type": "markdown",
      "source": [
        "🔹 2. Преобразование типов\n",
        "Иногда нужно превратить один тип в другой. Вот как это делается:\n",
        "\n",
        "1. int() — в целое число"
      ],
      "metadata": {
        "id": "vErKw2aOPjND"
      }
    },
    {
      "cell_type": "code",
      "source": [
        "print(int(\"5\"))    # 5 (строка → int)\n",
        "print(int(3.99))   # 3 (float → int, округляет вниз)"
      ],
      "metadata": {
        "colab": {
          "base_uri": "https://localhost:8080/"
        },
        "id": "qH1FhNmIPkdK",
        "outputId": "8da6568a-5727-4059-a7a1-138d4ef4d6c7"
      },
      "execution_count": 2,
      "outputs": [
        {
          "output_type": "stream",
          "name": "stdout",
          "text": [
            "5\n",
            "3\n"
          ]
        }
      ]
    },
    {
      "cell_type": "markdown",
      "source": [
        "2. float() — в число с плавающей точкой"
      ],
      "metadata": {
        "id": "wIPLp4_gP_QQ"
      }
    },
    {
      "cell_type": "code",
      "source": [
        "print(float(\"3.14\"))  # 3.14 (str → float)\n",
        "print(float(5))       # 5.0 (int → float)"
      ],
      "metadata": {
        "colab": {
          "base_uri": "https://localhost:8080/"
        },
        "id": "8ul_AmAJPok7",
        "outputId": "c82bae6b-8506-44d4-da98-d6bd44731f02"
      },
      "execution_count": 3,
      "outputs": [
        {
          "output_type": "stream",
          "name": "stdout",
          "text": [
            "3.14\n",
            "5.0\n"
          ]
        }
      ]
    },
    {
      "cell_type": "markdown",
      "source": [
        "3. str() — в строку"
      ],
      "metadata": {
        "id": "k7Nrzi6HQH60"
      }
    },
    {
      "cell_type": "code",
      "source": [
        "print(str(100))      # \"100\" (int → str)\n",
        "print(str(True))     # \"True\" (bool → str)"
      ],
      "metadata": {
        "colab": {
          "base_uri": "https://localhost:8080/"
        },
        "id": "VAdg4XkFQDwj",
        "outputId": "562b7ed1-3cb4-4046-9240-33be6aeac7b9"
      },
      "execution_count": 4,
      "outputs": [
        {
          "output_type": "stream",
          "name": "stdout",
          "text": [
            "100\n",
            "True\n"
          ]
        }
      ]
    },
    {
      "cell_type": "markdown",
      "source": [
        "4. list() / tuple() — в список или кортеж"
      ],
      "metadata": {
        "id": "7CFL3lDfQZRA"
      }
    },
    {
      "cell_type": "code",
      "source": [
        "print(list(\"hello\"))  # ['h', 'e', 'l', 'l', 'o']\n",
        "print(tuple([1, 2, 3]))  # (1, 2, 3)"
      ],
      "metadata": {
        "colab": {
          "base_uri": "https://localhost:8080/"
        },
        "id": "-2Pbds99QSoj",
        "outputId": "e19d5619-2971-49a5-887e-89e5e24083ff"
      },
      "execution_count": 5,
      "outputs": [
        {
          "output_type": "stream",
          "name": "stdout",
          "text": [
            "['h', 'e', 'l', 'l', 'o']\n",
            "(1, 2, 3)\n"
          ]
        }
      ]
    },
    {
      "cell_type": "markdown",
      "source": [
        " Ошибки при преобразовании"
      ],
      "metadata": {
        "id": "QZhE_9o4QkEI"
      }
    },
    {
      "cell_type": "code",
      "source": [
        "# int(\"abc\") → ValueError (нельзя буквы в число)\n",
        "# float(\"10.5.5\") → ValueError (некорректное число)"
      ],
      "metadata": {
        "id": "qtA3aRGTQdgL"
      },
      "execution_count": 6,
      "outputs": []
    },
    {
      "cell_type": "markdown",
      "source": [
        "🔹 3. Особые значения: None, True, False\n",
        "1. None — \"ничего\"\n",
        "Используется, когда нужно показать отсутствие значения."
      ],
      "metadata": {
        "id": "hhmtkDkuQ6YH"
      }
    },
    {
      "cell_type": "code",
      "source": [
        "x = None\n",
        "if x is None:\n",
        "    print(\"x не имеет значения\")"
      ],
      "metadata": {
        "colab": {
          "base_uri": "https://localhost:8080/"
        },
        "id": "waiyzjHvQnzT",
        "outputId": "077ebe27-9f85-4680-de6b-4753d444c5d7"
      },
      "execution_count": 7,
      "outputs": [
        {
          "output_type": "stream",
          "name": "stdout",
          "text": [
            "x не имеет значения\n"
          ]
        }
      ]
    },
    {
      "cell_type": "markdown",
      "source": [
        "2. True / False — логические значения\n",
        "Используются в условиях."
      ],
      "metadata": {
        "id": "gvCagdNaREWT"
      }
    },
    {
      "cell_type": "code",
      "source": [
        "age = 18\n",
        "is_adult = age >= 18  # True\n",
        "print(is_adult)       # True"
      ],
      "metadata": {
        "colab": {
          "base_uri": "https://localhost:8080/"
        },
        "id": "qsEsE1HqQ-WV",
        "outputId": "3539eba4-cdf0-4650-8bfc-7f1d0b680912"
      },
      "execution_count": 8,
      "outputs": [
        {
          "output_type": "stream",
          "name": "stdout",
          "text": [
            "True\n"
          ]
        }
      ]
    },
    {
      "cell_type": "markdown",
      "source": [
        "Логические преобразования\n",
        "Любое значение можно проверить на \"истинность\":"
      ],
      "metadata": {
        "id": "ZhEmQ7aOSa4v"
      }
    },
    {
      "cell_type": "code",
      "source": [
        "print(bool(1))     # True (числа ≠ 0 → True)\n",
        "print(bool(0))     # False\n",
        "print(bool(\"abc\")) # True (непустая строка → True)\n",
        "print(bool(\"\"))    # False"
      ],
      "metadata": {
        "colab": {
          "base_uri": "https://localhost:8080/"
        },
        "id": "1pTh7vjkSTZy",
        "outputId": "70cebfd0-d150-437b-f184-879aab97a252"
      },
      "execution_count": 9,
      "outputs": [
        {
          "output_type": "stream",
          "name": "stdout",
          "text": [
            "True\n",
            "False\n",
            "True\n",
            "False\n"
          ]
        }
      ]
    },
    {
      "cell_type": "markdown",
      "source": [
        "🔹 4. Практика (задания)\n",
        "Задание 1. Преобразование типов\n",
        "Что выведет этот код? Проверь себя."
      ],
      "metadata": {
        "id": "OvO6NM9_Sigx"
      }
    },
    {
      "cell_type": "code",
      "source": [
        "a = int(\"10\")\n",
        "b = float(\"5.5\")\n",
        "c = str(True)\n",
        "d = bool(0)\n",
        "print(a, b, c, d)"
      ],
      "metadata": {
        "colab": {
          "base_uri": "https://localhost:8080/"
        },
        "id": "bpA9rJy1S1xI",
        "outputId": "684b17a6-d695-483c-ca95-33f718a5736d"
      },
      "execution_count": 11,
      "outputs": [
        {
          "output_type": "stream",
          "name": "stdout",
          "text": [
            "10 5.5 True False\n"
          ]
        }
      ]
    },
    {
      "cell_type": "markdown",
      "source": [
        "Задание 2. Исправь ошибки\n",
        "В этом коде есть 3 ошибки. Найди и исправь их."
      ],
      "metadata": {
        "id": "KMSWI8SNS7i6"
      }
    },
    {
      "cell_type": "code",
      "source": [
        "num = 5\n",
        "text = 100\n",
        "result = num + text\n",
        "print(\"Результат:\", result)"
      ],
      "metadata": {
        "colab": {
          "base_uri": "https://localhost:8080/"
        },
        "id": "4FSBgdU2SeUU",
        "outputId": "6601a743-60d3-4731-d2e0-bfd9a0b12c77"
      },
      "execution_count": 12,
      "outputs": [
        {
          "output_type": "stream",
          "name": "stdout",
          "text": [
            "Результат: 105\n"
          ]
        }
      ]
    },
    {
      "cell_type": "markdown",
      "source": [
        "##1. Списки (list), кортежи (tuple), словари (dict)\n",
        "1.1 Список (list) — изменяемый массив"
      ],
      "metadata": {
        "id": "jEourR33TOD-"
      }
    },
    {
      "cell_type": "code",
      "source": [
        "fruits = [\"apple\", \"banana\", \"cherry\"]"
      ],
      "metadata": {
        "id": "ZQ1dF1DMSnAE"
      },
      "execution_count": 13,
      "outputs": []
    },
    {
      "cell_type": "markdown",
      "source": [
        "Что можно делать?\n",
        "\n",
        "Добавлять: fruits.append(\"orange\") → [\"apple\", \"banana\", \"cherry\", \"orange\"]\n",
        "\n",
        "Удалять: fruits.remove(\"banana\") → [\"apple\", \"cherry\"]\n",
        "\n",
        "Менять: fruits[0] = \"kiwi\" → [\"kiwi\", \"banana\", \"cherry\"]\n",
        "\n",
        "1.2 Кортеж (tuple) — неизменяемый список\n",
        "python\n"
      ],
      "metadata": {
        "id": "fZl4R4TJTWFN"
      }
    },
    {
      "cell_type": "code",
      "source": [
        "colors = (\"red\", \"green\", \"blue\")"
      ],
      "metadata": {
        "id": "4pxP5yCVTSur"
      },
      "execution_count": 14,
      "outputs": []
    },
    {
      "cell_type": "markdown",
      "source": [
        "Что можно делать?\n",
        "\n",
        "Читать: colors[0] → \"red\"\n",
        "\n",
        "Нельзя изменить: colors[1] = \"yellow\" → Ошибка!\n",
        "\n",
        "1.3 Словарь (dict) — пары ключ-значение"
      ],
      "metadata": {
        "id": "uj2_nCvnTjiJ"
      }
    },
    {
      "cell_type": "code",
      "source": [
        "person = {\"name\": \"Alice\", \"age\": 25}"
      ],
      "metadata": {
        "id": "zXpUzP8wTgre"
      },
      "execution_count": 15,
      "outputs": []
    },
    {
      "cell_type": "markdown",
      "source": [
        "Что можно делать?\n",
        "\n",
        "Читать: person[\"name\"] → \"Alice\"\n",
        "\n",
        "Менять: person[\"age\"] = 26\n",
        "\n",
        "Добавлять: person[\"city\"] = \"Berlin\"\n",
        "\n",
        "🔹 2. Изменяемость: mutable vs immutable\n",
        "Изменяемые (mutable) типы\n",
        "Можно менять после создания.\n",
        "\n",
        "Примеры: list, dict, set"
      ],
      "metadata": {
        "id": "kgH0kDxDTwUp"
      }
    },
    {
      "cell_type": "code",
      "source": [
        "a = [1, 2, 3]\n",
        "a[0] = 100  # OK"
      ],
      "metadata": {
        "id": "gTu3JaU6TsXo"
      },
      "execution_count": 16,
      "outputs": []
    },
    {
      "cell_type": "markdown",
      "source": [
        "Неизменяемые (immutable) типы\n",
        "Нельзя изменить после создания.\n",
        "\n",
        "Примеры: int, float, str, tuple, bool"
      ],
      "metadata": {
        "id": "AZmydFhAY1Pn"
      }
    },
    {
      "cell_type": "code",
      "source": [
        "# b = (1, 2, 3)\n",
        "# b[0] = 100  # Ошибка: 'tuple' does not support item assignment"
      ],
      "metadata": {
        "id": "3JJPELPyYxQa"
      },
      "execution_count": 42,
      "outputs": []
    },
    {
      "cell_type": "markdown",
      "source": [
        "🔥 Важно\n",
        "При присваивании immutable-объектов создаётся копия, а mutable — передаётся по ссылке:"
      ],
      "metadata": {
        "id": "UkRlu-uHY-jy"
      }
    },
    {
      "cell_type": "code",
      "source": [
        "x = [1, 2]  # mutable\n",
        "y = x\n",
        "y[0] = 99\n",
        "print(x)  # [99, 2] (!) изменился и x\n",
        "\n",
        "a = 5  # immutable\n",
        "b = a\n",
        "b = 10\n",
        "print(a)  # 5 (a не изменилось)"
      ],
      "metadata": {
        "colab": {
          "base_uri": "https://localhost:8080/"
        },
        "id": "B86z1nDYY5PS",
        "outputId": "f03a9509-c426-42da-f78b-f949da9064e2"
      },
      "execution_count": 18,
      "outputs": [
        {
          "output_type": "stream",
          "name": "stdout",
          "text": [
            "[99, 2]\n",
            "5\n"
          ]
        }
      ]
    },
    {
      "cell_type": "markdown",
      "source": [
        "🔹 3. Методы split(), join(), map(), filter()\n",
        "3.1 split() — разбивает строку по разделителю"
      ],
      "metadata": {
        "id": "ErM-TE9nZafg"
      }
    },
    {
      "cell_type": "code",
      "source": [
        "text = \"apple,banana,cherry\"\n",
        "fruits = text.split(\",\")  # [\"apple\", \"banana\", \"cherry\"]"
      ],
      "metadata": {
        "id": "oSExzPFFZHBv"
      },
      "execution_count": 19,
      "outputs": []
    },
    {
      "cell_type": "markdown",
      "source": [
        "3.2 join() — склеивает список в строку"
      ],
      "metadata": {
        "id": "lIZssoMGZ-FV"
      }
    },
    {
      "cell_type": "code",
      "source": [
        "fruits = [\"apple\", \"banana\", \"cherry\"]\n",
        "text = \", \".join(fruits)  # \"apple, banana, cherry\""
      ],
      "metadata": {
        "id": "vCERG69EZy1m"
      },
      "execution_count": 20,
      "outputs": []
    },
    {
      "cell_type": "markdown",
      "source": [
        "3.3 map() — применяет функцию к каждому элементу"
      ],
      "metadata": {
        "id": "o-yZKP3paMdZ"
      }
    },
    {
      "cell_type": "code",
      "source": [
        "numbers = [\"1\", \"2\", \"3\"]\n",
        "numbers_int = list(map(int, numbers))  # [1, 2, 3]"
      ],
      "metadata": {
        "id": "B8HDxhV5aBTD"
      },
      "execution_count": 21,
      "outputs": []
    },
    {
      "cell_type": "markdown",
      "source": [
        "3.4 filter() — фильтрует элементы по условию"
      ],
      "metadata": {
        "id": "fX-12iyKkZIm"
      }
    },
    {
      "cell_type": "code",
      "source": [
        "numbers = [1, 2, 3, 4, 5]\n",
        "even = list(filter(lambda x: x % 2 == 0, numbers))  # [2, 4]"
      ],
      "metadata": {
        "id": "dBc4KZQykWi6"
      },
      "execution_count": 22,
      "outputs": []
    },
    {
      "cell_type": "markdown",
      "source": [
        "🔹 4. Практика (задания)\n",
        "Задание 1. Работа со списками\n",
        "Дан список:"
      ],
      "metadata": {
        "id": "9_dDjxx-kwkp"
      }
    },
    {
      "cell_type": "code",
      "source": [
        "nums = [10, 20, 30]"
      ],
      "metadata": {
        "id": "rAVR_rtpklKY"
      },
      "execution_count": 23,
      "outputs": []
    },
    {
      "cell_type": "markdown",
      "source": [
        "Добавь число 40 в конец.\n",
        "\n",
        "Удали число 20.\n",
        "\n",
        "Замени первый элемент на 5."
      ],
      "metadata": {
        "id": "C9CC79oTk4Hn"
      }
    },
    {
      "cell_type": "markdown",
      "source": [
        "<details> <summary>✅ Ответ</summary> <pre> nums.append(40) # [10, 20, 30, 40] nums.remove(20) # [10, 30, 40] nums[0] = 5 # [5, 30, 40] </pre> </details>"
      ],
      "metadata": {
        "id": "V63wbVeEk9CN"
      }
    },
    {
      "cell_type": "markdown",
      "source": [
        "Задание 2. Преобразование строки\n",
        "Дана строка:"
      ],
      "metadata": {
        "id": "TftONhsblI_x"
      }
    },
    {
      "cell_type": "code",
      "source": [
        "text = \"Python is awesome\""
      ],
      "metadata": {
        "id": "zr0X2SOgk06v"
      },
      "execution_count": 24,
      "outputs": []
    },
    {
      "cell_type": "markdown",
      "source": [
        "Разбей её на слова по пробелам.\n",
        "\n",
        "Собери обратно в строку с разделителем \"-\"."
      ],
      "metadata": {
        "id": "lDsZuCLBlT2b"
      }
    },
    {
      "cell_type": "markdown",
      "source": [
        "<details> <summary>✅ Ответ</summary> <pre> words = text.split() # [\"Python\", \"is\", \"awesome\"] new_text = \"-\".join(words) # \"Python-is-awesome\" </pre> </details>"
      ],
      "metadata": {
        "id": "aJdhUziKlZ-R"
      }
    },
    {
      "cell_type": "markdown",
      "source": [
        "Задание 3. Фильтрация списка\n",
        "Дан список:"
      ],
      "metadata": {
        "id": "W9zNgzdeljNV"
      }
    },
    {
      "cell_type": "code",
      "source": [
        "numbers = [1, 2, 3, 4, 5, 6]"
      ],
      "metadata": {
        "id": "QcwxsIQClasD"
      },
      "execution_count": 26,
      "outputs": []
    },
    {
      "cell_type": "markdown",
      "source": [
        "Оставь только чётные числа (используй filter)."
      ],
      "metadata": {
        "id": "YcjftlfrluGA"
      }
    },
    {
      "cell_type": "code",
      "source": [
        "print(list(filter(lambda x: x % 2 == 0, numbers)))"
      ],
      "metadata": {
        "colab": {
          "base_uri": "https://localhost:8080/"
        },
        "id": "P-GMcbi6ln6D",
        "outputId": "adbf614f-2ce6-42be-c153-b0af33964cf0"
      },
      "execution_count": 28,
      "outputs": [
        {
          "output_type": "stream",
          "name": "stdout",
          "text": [
            "[2, 4, 6]\n"
          ]
        }
      ]
    },
    {
      "cell_type": "markdown",
      "source": [
        "<details> <summary>✅ Ответ</summary> <pre> even = list(filter(lambda x: x % 2 == 0, numbers)) # [2, 4, 6] </pre> </details>"
      ],
      "metadata": {
        "id": "KfIISG8VmX16"
      }
    },
    {
      "cell_type": "markdown",
      "source": [
        "🔹 5. Что запомнить?\n",
        "Списки — изменяемые, кортежи — нет.\n",
        "\n",
        "Словари — хранят данные в формате ключ: значение.\n",
        "\n",
        "split() и join() — для работы со строками.\n",
        "\n",
        "map() и filter() — для обработки коллекций.\n",
        "\n",
        "Совет: Потренируйся в Replit или IDE. Попробуй написать код для таких задач:\n",
        "\n",
        "Преобразовать список строк [\"1\", \"2\", \"3\"] в список чисел.\n",
        "\n",
        "Из словаря {\"name\": \"Alice\", \"age\": 25} получить имя и увеличить возраст на 1."
      ],
      "metadata": {
        "id": "OfAHILkLmgSU"
      }
    },
    {
      "cell_type": "markdown",
      "source": [
        "##1. Условные операторы: if-elif-else\n",
        "Базовая структура"
      ],
      "metadata": {
        "id": "QpbGCiqimuA3"
      }
    },
    {
      "cell_type": "code",
      "source": [
        "# if условие1:\n",
        "#     # код, если условие1 True\n",
        "# elif условие2:  # необязательно\n",
        "#     # код, если условие2 True\n",
        "# else:           # необязательно\n",
        "#     # код, если все условия False"
      ],
      "metadata": {
        "id": "xd05wQfBluvC"
      },
      "execution_count": 43,
      "outputs": []
    },
    {
      "cell_type": "markdown",
      "source": [
        "Пример с оценками"
      ],
      "metadata": {
        "id": "mOj5X_v5nQV7"
      }
    },
    {
      "cell_type": "code",
      "source": [
        "grade = 85\n",
        "\n",
        "if grade >= 90:\n",
        "    print(\"Отлично!\")\n",
        "elif grade >= 70:\n",
        "    print(\"Хорошо\")  # Сработает это\n",
        "else:\n",
        "    print(\"Надо подучить\")"
      ],
      "metadata": {
        "colab": {
          "base_uri": "https://localhost:8080/"
        },
        "id": "uhhCQj2Ym-vF",
        "outputId": "4f6f6802-e0bd-476e-9513-cdc4c3b7691b"
      },
      "execution_count": 30,
      "outputs": [
        {
          "output_type": "stream",
          "name": "stdout",
          "text": [
            "Хорошо\n"
          ]
        }
      ]
    },
    {
      "cell_type": "markdown",
      "source": [
        "Важные нюансы\n",
        "Порядок проверки: if → elif → else.\n",
        "\n",
        "После первого True остальные блоки пропускаются.\n",
        "\n",
        "Можно использовать без elif или else."
      ],
      "metadata": {
        "id": "zuTEjPQQnXSK"
      }
    },
    {
      "cell_type": "markdown",
      "source": [
        "🔹 2. Циклы: for vs while\n",
        "Цикл for — для известного количества повторов"
      ],
      "metadata": {
        "id": "3O8GjCHmncO_"
      }
    },
    {
      "cell_type": "code",
      "source": [
        "# Перебор элементов списка\n",
        "fruits = [\"яблоко\", \"банан\", \"вишня\"]\n",
        "for fruit in fruits:\n",
        "    print(fruit)"
      ],
      "metadata": {
        "colab": {
          "base_uri": "https://localhost:8080/"
        },
        "id": "z-4x-AF2nM08",
        "outputId": "54e4ca58-6463-4fa5-af6c-108a7c00c0bd"
      },
      "execution_count": 31,
      "outputs": [
        {
          "output_type": "stream",
          "name": "stdout",
          "text": [
            "яблоко\n",
            "банан\n",
            "вишня\n"
          ]
        }
      ]
    },
    {
      "cell_type": "markdown",
      "source": [
        "Цикл while — пока условие истинно"
      ],
      "metadata": {
        "id": "yz5QgJdunoDO"
      }
    },
    {
      "cell_type": "code",
      "source": [
        "# Обратный отсчёт\n",
        "count = 3\n",
        "while count > 0:\n",
        "    print(count)\n",
        "    count -= 1"
      ],
      "metadata": {
        "colab": {
          "base_uri": "https://localhost:8080/"
        },
        "id": "ODW9PDGPngfT",
        "outputId": "f8c41c00-0a9e-4f18-a20a-9ddf3c27584d"
      },
      "execution_count": 32,
      "outputs": [
        {
          "output_type": "stream",
          "name": "stdout",
          "text": [
            "3\n",
            "2\n",
            "1\n"
          ]
        }
      ]
    },
    {
      "cell_type": "markdown",
      "source": [
        "Ключевые различия\n",
        "Особенность\tfor\twhile\n",
        "Когда использовать\tКогда знаем количество итераций\tКогда условие может меняться\n",
        "Пример\tfor i in range(5):\twhile x < 10:\n",
        "Риски\tНет риска бесконечного цикла\tМожет стать бесконечным\n"
      ],
      "metadata": {
        "id": "1yDap8_HoCwA"
      }
    },
    {
      "cell_type": "markdown",
      "source": [
        "🔹 3. Управление циклами: break, continue, pass\n",
        "break — немедленный выход из цикла"
      ],
      "metadata": {
        "id": "rgO5Pl1CoUpL"
      }
    },
    {
      "cell_type": "code",
      "source": [
        "# Выход при нахождении числа\n",
        "numbers = [1, 2, 3, 4, 5]\n",
        "for num in numbers:\n",
        "    if num == 3:\n",
        "        break\n",
        "    print(num)  # 1, 2"
      ],
      "metadata": {
        "colab": {
          "base_uri": "https://localhost:8080/"
        },
        "id": "XXEAxoFFn0_5",
        "outputId": "f8597676-462b-4a74-a2b0-e0a77a78cfc7"
      },
      "execution_count": 36,
      "outputs": [
        {
          "output_type": "stream",
          "name": "stdout",
          "text": [
            "1\n",
            "2\n"
          ]
        }
      ]
    },
    {
      "cell_type": "markdown",
      "source": [
        "continue — пропуск текущей итерации"
      ],
      "metadata": {
        "id": "eqHuMI3CogoU"
      }
    },
    {
      "cell_type": "code",
      "source": [
        "# Пропуск чётных чисел\n",
        "for num in range(5):\n",
        "    if num % 2 == 0:\n",
        "        continue\n",
        "    print(num)  # 1, 3"
      ],
      "metadata": {
        "colab": {
          "base_uri": "https://localhost:8080/"
        },
        "id": "0PE62eBJoDbo",
        "outputId": "5f16f904-4cf2-44f1-f5a8-9a5383451cce"
      },
      "execution_count": 37,
      "outputs": [
        {
          "output_type": "stream",
          "name": "stdout",
          "text": [
            "1\n",
            "3\n"
          ]
        }
      ]
    },
    {
      "cell_type": "markdown",
      "source": [
        "pass — заглушка (ничего не делает)"
      ],
      "metadata": {
        "id": "mWFqQOJZv8OC"
      }
    },
    {
      "cell_type": "code",
      "source": [
        "# Заглушка для пустого блока\n",
        "if 10 > 5:\n",
        "    pass  # TODO: добавить код позже"
      ],
      "metadata": {
        "id": "kewAsh7HohRu"
      },
      "execution_count": 38,
      "outputs": []
    },
    {
      "cell_type": "code",
      "source": [],
      "metadata": {
        "id": "JKzthY3uv8oK"
      },
      "execution_count": null,
      "outputs": []
    },
    {
      "cell_type": "markdown",
      "source": [
        "🔹 4. Практика (задания)\n",
        "Задание 1: Условия\n",
        "Напиши код, который:\n",
        "\n",
        "Если число положительное → выводит \"Положительное\".\n",
        "\n",
        "Если ноль → \"Ноль\".\n",
        "\n",
        "Если отрицательное → \"Отрицательное\".\n",
        "\n",
        "<details> <summary>✅ Ответ</summary> <pre> num = int(input(\"Введите число: \"))\n",
        "if num > 0:\n",
        "print(\"Положительное\")\n",
        "elif num == 0:\n",
        "print(\"Ноль\")\n",
        "else:\n",
        "print(\"Отрицательное\")\n",
        "</pre>\n",
        "\n",
        "</details>\n",
        "Задание 2: Цикл for\n",
        "Дан список: [10, 20, 30, 40].\n",
        "Выведи каждый элемент, умноженный на 2.\n",
        "\n",
        "<details> <summary>✅ Ответ</summary> <pre> numbers = [10, 20, 30, 40] for num in numbers: print(num * 2) # 20, 40, 60, 80 </pre> </details>\n",
        "Задание 3: Цикл while\n",
        "Напиши цикл, который выводит числа от 5 до 1.\n",
        "\n",
        "<details> <summary>✅ Ответ</summary> <pre> count = 5 while count >= 1: print(count) count -= 1 </pre> </details>\n",
        "Задание 4: break и continue\n",
        "Дан список: [1, 2, 3, \"стоп\", 4, 5].\n",
        "Выводи элементы, пока не встретится \"стоп\" (используй break).\n",
        "\n",
        "<details> <summary>✅ Ответ</summary> <pre> items = [1, 2, 3, \"стоп\", 4, 5] for item in items: if item == \"стоп\": break print(item) # 1, 2, 3 </pre> </details>"
      ],
      "metadata": {
        "id": "Os3Os6XmwG44"
      }
    },
    {
      "cell_type": "markdown",
      "source": [
        "🔹 5. Частые ошибки\n",
        "Бесконечный while"
      ],
      "metadata": {
        "id": "RP4gRB8ZwMVs"
      }
    },
    {
      "cell_type": "code",
      "source": [
        "# while True:  # Бесконечный цикл!\n",
        "#     print(\"...\")"
      ],
      "metadata": {
        "id": "koqOIr3nwHfR"
      },
      "execution_count": 40,
      "outputs": []
    },
    {
      "cell_type": "markdown",
      "source": [
        "Решение: Добавь условие выхода.\n",
        "\n",
        "Путаница между = и =="
      ],
      "metadata": {
        "id": "YbEJw4e5woYr"
      }
    },
    {
      "cell_type": "code",
      "source": [
        "#if x = 10:  # Ошибка! Нужно =="
      ],
      "metadata": {
        "id": "zxJaRWw3wM3x"
      },
      "execution_count": 41,
      "outputs": []
    },
    {
      "cell_type": "markdown",
      "source": [
        "Отступы (IndentationError)\n",
        "В Python блоки кода выделяются отступами (4 пробела или Tab).\n",
        "\n",
        "🔹 6. Что дальше?\n",
        "Когда освоишь условия и циклы, переходи к Уровню 4: Функции и модульность.\n",
        "Совет: Попробуй написать:\n",
        "\n",
        "Программу-калькулятор (с выбором операции через if).\n",
        "\n",
        "Игру \"Угадай число\" (с циклом while)."
      ],
      "metadata": {
        "id": "egacWFDHw1AZ"
      }
    },
    {
      "cell_type": "markdown",
      "source": [
        "##1. Объявление функций: def\n",
        "Базовый синтаксис"
      ],
      "metadata": {
        "id": "eEtFRQ2xxyF1"
      }
    },
    {
      "cell_type": "code",
      "source": [
        "def имя_функции(аргументы):\n",
        "    # тело функции\n",
        "    return результат  # необязательно"
      ],
      "metadata": {
        "id": "6mKAOzYIwpCB"
      },
      "execution_count": 44,
      "outputs": []
    },
    {
      "cell_type": "markdown",
      "source": [
        "Пример 1: Простая функция"
      ],
      "metadata": {
        "id": "yyAYCBjqyt-9"
      }
    },
    {
      "cell_type": "code",
      "source": [
        "def greet():\n",
        "    print(\"Привет, мир!\")\n",
        "\n",
        "greet()  # Вызов функции"
      ],
      "metadata": {
        "colab": {
          "base_uri": "https://localhost:8080/"
        },
        "id": "Jm3ny-cQym92",
        "outputId": "a2721c80-981f-4462-f79f-d72a135c16a3"
      },
      "execution_count": 45,
      "outputs": [
        {
          "output_type": "stream",
          "name": "stdout",
          "text": [
            "Привет, мир!\n"
          ]
        }
      ]
    },
    {
      "cell_type": "markdown",
      "source": [
        "Пример 2: Функция с аргументами"
      ],
      "metadata": {
        "id": "2dUpwJQhzQh9"
      }
    },
    {
      "cell_type": "code",
      "source": [
        "def add(a, b):\n",
        "    return a + b\n",
        "\n",
        "result = add(3, 5)\n",
        "print(result)  # 8"
      ],
      "metadata": {
        "colab": {
          "base_uri": "https://localhost:8080/"
        },
        "id": "eFDtwq8HyxlN",
        "outputId": "3fa0f63b-716a-4bd6-85b9-e9466f525209"
      },
      "execution_count": 46,
      "outputs": [
        {
          "output_type": "stream",
          "name": "stdout",
          "text": [
            "8\n"
          ]
        }
      ]
    },
    {
      "cell_type": "code",
      "source": [
        "def add(a, b):\n",
        "\n",
        "    return a + b\n",
        "\n",
        "add(3, 5)\n"
      ],
      "metadata": {
        "colab": {
          "base_uri": "https://localhost:8080/"
        },
        "id": "bWfOezbIzTv0",
        "outputId": "64bfdd27-f009-4ff1-803b-072eb1d0620f"
      },
      "execution_count": 47,
      "outputs": [
        {
          "output_type": "execute_result",
          "data": {
            "text/plain": [
              "8"
            ]
          },
          "metadata": {},
          "execution_count": 47
        }
      ]
    },
    {
      "cell_type": "markdown",
      "source": [
        "🔹 2. return vs print — ключевые различия\n",
        "Особенность\treturn\tprint\n",
        "**Назначение**\tВозвращает результат функции\tВыводит текст в консоль\n",
        "**Использование**\tДля дальнейших вычислений\tДля отладки/вывода пользователю\n",
        "**Эффект**\tПрекращает работу функции\tНе влияет на выполнение кода\n",
        "Пример 1: return"
      ],
      "metadata": {
        "id": "v4MwbI4F1cJ4"
      }
    },
    {
      "cell_type": "code",
      "source": [
        "def multiply(a, b):\n",
        "    return a * b\n",
        "\n",
        "x = multiply(2, 3)  # x = 6\n",
        "print(x + 1)  # 7"
      ],
      "metadata": {
        "colab": {
          "base_uri": "https://localhost:8080/"
        },
        "id": "WZ-uGTZKzuss",
        "outputId": "2ae17806-c3c5-4db9-805d-6869e29bae61"
      },
      "execution_count": 48,
      "outputs": [
        {
          "output_type": "stream",
          "name": "stdout",
          "text": [
            "7\n"
          ]
        }
      ]
    },
    {
      "cell_type": "markdown",
      "source": [
        "Пример 2: print"
      ],
      "metadata": {
        "id": "oVXTAor73MQH"
      }
    },
    {
      "cell_type": "code",
      "source": [
        "def show_sum(a, b):\n",
        "    print(a + b)  # Выводит, но не возвращает\n",
        "\n",
        "y = show_sum(2, 3)  # Выведет 5, но y = None\n",
        "print(y)  # None"
      ],
      "metadata": {
        "colab": {
          "base_uri": "https://localhost:8080/"
        },
        "id": "LNx1lGN226YA",
        "outputId": "41eea511-e84e-4594-9353-496965d07066"
      },
      "execution_count": 49,
      "outputs": [
        {
          "output_type": "stream",
          "name": "stdout",
          "text": [
            "5\n",
            "None\n"
          ]
        }
      ]
    },
    {
      "cell_type": "markdown",
      "source": [
        "Ошибка новичков"
      ],
      "metadata": {
        "id": "WhxETO7537w5"
      }
    },
    {
      "cell_type": "code",
      "source": [
        "def wrong():\n",
        "    print(\"Hello\")  # Вывод есть, но возвращает None\n",
        "\n",
        "result = wrong()  # result = None!"
      ],
      "metadata": {
        "colab": {
          "base_uri": "https://localhost:8080/"
        },
        "id": "ftL5O_V83Pgv",
        "outputId": "a57ed0ae-0355-45a5-e9a5-d68329ddda46"
      },
      "execution_count": 50,
      "outputs": [
        {
          "output_type": "stream",
          "name": "stdout",
          "text": [
            "Hello\n"
          ]
        }
      ]
    },
    {
      "cell_type": "markdown",
      "source": [
        "🔹 3. Аргументы функций: *args и **kwargs\n",
        "3.1 Обычные аргументы"
      ],
      "metadata": {
        "id": "YpElX69r4MbS"
      }
    },
    {
      "cell_type": "code",
      "source": [
        "def power(base, exponent):\n",
        "    return base ** exponent\n",
        "\n",
        "print(power(2, 3))  # 8"
      ],
      "metadata": {
        "colab": {
          "base_uri": "https://localhost:8080/"
        },
        "id": "YYh9zGAm3_4O",
        "outputId": "82effd7a-bc79-4555-b11d-7fea21883fac"
      },
      "execution_count": 51,
      "outputs": [
        {
          "output_type": "stream",
          "name": "stdout",
          "text": [
            "8\n"
          ]
        }
      ]
    },
    {
      "cell_type": "markdown",
      "source": [
        "3.2 *args — произвольное число аргументов (кортеж)"
      ],
      "metadata": {
        "id": "R2L41BSW4hAc"
      }
    },
    {
      "cell_type": "code",
      "source": [
        "def sum_all(*numbers):\n",
        "    total = 0\n",
        "    for num in numbers:\n",
        "        total += num\n",
        "    return total\n",
        "\n",
        "print(sum_all(1, 2, 3))  # 6\n",
        "print(sum_all(10, 20))    # 30"
      ],
      "metadata": {
        "colab": {
          "base_uri": "https://localhost:8080/"
        },
        "id": "N4CWUJU54R0u",
        "outputId": "2e789e44-3c72-4377-f180-510df762beed"
      },
      "execution_count": 52,
      "outputs": [
        {
          "output_type": "stream",
          "name": "stdout",
          "text": [
            "6\n",
            "30\n"
          ]
        }
      ]
    },
    {
      "cell_type": "markdown",
      "source": [
        "3.3 **kwargs — произвольные именованные аргументы (словарь)"
      ],
      "metadata": {
        "id": "GNUiiMls5LTP"
      }
    },
    {
      "cell_type": "code",
      "source": [
        "def user_info(**details):\n",
        "    for key, value in details.items():\n",
        "        print(f\"{key}: {value}\")\n",
        "\n",
        "user_info(name=\"Alice\", age=25, city=\"Berlin\")"
      ],
      "metadata": {
        "colab": {
          "base_uri": "https://localhost:8080/"
        },
        "id": "sHg08MZ04ii1",
        "outputId": "da74ffa5-ef91-4506-e1f8-31b5db78599d"
      },
      "execution_count": 53,
      "outputs": [
        {
          "output_type": "stream",
          "name": "stdout",
          "text": [
            "name: Alice\n",
            "age: 25\n",
            "city: Berlin\n"
          ]
        }
      ]
    },
    {
      "cell_type": "markdown",
      "source": [
        "Комбинирование аргументов"
      ],
      "metadata": {
        "id": "ySh_4nbG5cWH"
      }
    },
    {
      "cell_type": "code",
      "source": [
        "def example(a, b, *args, **kwargs):\n",
        "    print(f\"a={a}, b={b}\")\n",
        "    print(f\"Доп. аргументы: {args}\")\n",
        "    print(f\"Именованные аргументы: {kwargs}\")\n",
        "\n",
        "example(1, 2, 3, 4, name=\"John\", age=30)"
      ],
      "metadata": {
        "colab": {
          "base_uri": "https://localhost:8080/"
        },
        "id": "HXqYkCKM5PL1",
        "outputId": "b0fcfdf6-394e-4d18-ed4a-89296f2d69d2"
      },
      "execution_count": 54,
      "outputs": [
        {
          "output_type": "stream",
          "name": "stdout",
          "text": [
            "a=1, b=2\n",
            "Доп. аргументы: (3, 4)\n",
            "Именованные аргументы: {'name': 'John', 'age': 30}\n"
          ]
        }
      ]
    },
    {
      "cell_type": "markdown",
      "source": [
        "🔹 4. Практика (задания)\n",
        "Задание 1: Функция с return\n",
        "Напиши функцию is_even, которая возвращает True, если число чётное, и False — если нет.\n",
        "\n",
        "<details> <summary>✅ Ответ</summary> <pre> def is_even(num): return num % 2 == 0\n",
        "print(is_even(4)) # True\n",
        "print(is_even(5)) # False\n",
        "</pre>\n",
        "\n",
        "</details>\n",
        "Задание 2: *args\n",
        "Создай функцию average, которая вычисляет среднее значение любого количества чисел.\n",
        "\n",
        "<details> <summary>✅ Ответ</summary> <pre> def average(*nums): return sum(nums) / len(nums) if nums else 0\n",
        "print(average(1, 2, 3)) # 2.0\n",
        "</pre>\n",
        "\n",
        "</details>"
      ],
      "metadata": {
        "id": "w0KK20vE5xat"
      }
    },
    {
      "cell_type": "markdown",
      "source": [
        "Задание 3: **kwargs\n",
        "Напиши функцию print_profile, которая принимает именованные аргументы (name, age, job) и выводит их в формате:"
      ],
      "metadata": {
        "id": "MYHyTB2Q6UhJ"
      }
    },
    {
      "cell_type": "code",
      "source": [
        "# Name: [name]\n",
        "# Age: [age]\n",
        "# Job: [job]"
      ],
      "metadata": {
        "id": "1XZcO5gQ5f4l"
      },
      "execution_count": 56,
      "outputs": []
    },
    {
      "cell_type": "markdown",
      "source": [
        "<details> <summary>✅ Ответ</summary> <pre> def print_profile(**kwargs): for key, value in kwargs.items(): print(f\"{key.capitalize()}: {value}\")\n",
        "print_profile(name=\"Alice\", age=25, job=\"Engineer\")\n",
        "</pre>\n",
        "\n",
        "</details>"
      ],
      "metadata": {
        "id": "q3YxPYUP-_Aq"
      }
    },
    {
      "cell_type": "markdown",
      "source": [
        "🔹 5. Продвинутые техники\n",
        "Значения аргументов по умолчанию"
      ],
      "metadata": {
        "id": "TjRftkRm_CnE"
      }
    },
    {
      "cell_type": "code",
      "source": [
        "def greet(name=\"Гость\"):\n",
        "    print(f\"Привет, {name}!\")\n",
        "\n",
        "greet()          # Привет, Гость!\n",
        "greet(\"Анна\")    # Привет, Анна!"
      ],
      "metadata": {
        "colab": {
          "base_uri": "https://localhost:8080/"
        },
        "id": "2U6iTkiC6f_V",
        "outputId": "99376c1c-5e2e-486e-a4da-c3eb75644334"
      },
      "execution_count": 57,
      "outputs": [
        {
          "output_type": "stream",
          "name": "stdout",
          "text": [
            "Привет, Гость!\n",
            "Привет, Анна!\n"
          ]
        }
      ]
    },
    {
      "cell_type": "markdown",
      "source": [
        "Аннотации типов (Python 3.5+)"
      ],
      "metadata": {
        "id": "k-I8V7cn_PUo"
      }
    },
    {
      "cell_type": "code",
      "source": [
        "def add(a: int, b: int) -> int:\n",
        "    return a + b"
      ],
      "metadata": {
        "id": "oYn672O-_GS5"
      },
      "execution_count": 58,
      "outputs": []
    },
    {
      "cell_type": "markdown",
      "source": [
        "Рекурсивные функции"
      ],
      "metadata": {
        "id": "Z1YKwiLs_XSt"
      }
    },
    {
      "cell_type": "code",
      "source": [
        "def factorial(n):\n",
        "    return 1 if n == 0 else n * factorial(n - 1)\n",
        "\n",
        "print(factorial(5))  # 120"
      ],
      "metadata": {
        "colab": {
          "base_uri": "https://localhost:8080/"
        },
        "id": "kGoapXgA_Syh",
        "outputId": "390a98bd-3514-42bf-aed2-2f41d7d71ea6"
      },
      "execution_count": 59,
      "outputs": [
        {
          "output_type": "stream",
          "name": "stdout",
          "text": [
            "120\n"
          ]
        }
      ]
    },
    {
      "cell_type": "markdown",
      "source": [
        "🔹 6. Частые ошибки\n",
        "Путаница между return и print"
      ],
      "metadata": {
        "id": "O9HG3RaV_3dc"
      }
    },
    {
      "cell_type": "code",
      "source": [
        "def add(a, b): print(a + b) # Ошибка: функция не возвращает результат!\n",
        "\n",
        "result = add(2, 3) # result = None"
      ],
      "metadata": {
        "colab": {
          "base_uri": "https://localhost:8080/"
        },
        "id": "n5hOT612TT1V",
        "outputId": "fb2f7e14-494d-4e52-b2a7-c4a2085ef799"
      },
      "execution_count": 63,
      "outputs": [
        {
          "output_type": "stream",
          "name": "stdout",
          "text": [
            "5\n"
          ]
        }
      ]
    },
    {
      "cell_type": "markdown",
      "source": [
        "Изменяемые аргументы по умолчанию"
      ],
      "metadata": {
        "id": "zBe_tyBC__2W"
      }
    },
    {
      "cell_type": "code",
      "source": [
        "def add_item(item, lst=[]):  # Опасность!\n",
        "    lst.append(item)\n",
        "    return lst\n",
        "\n",
        "print(add_item(1))  # [1]\n",
        "print(add_item(2))  # [1, 2] (!)"
      ],
      "metadata": {
        "colab": {
          "base_uri": "https://localhost:8080/"
        },
        "id": "mOCDlNWd_Z8x",
        "outputId": "56ded0de-f58e-41aa-8e17-5c863521cc03"
      },
      "execution_count": 60,
      "outputs": [
        {
          "output_type": "stream",
          "name": "stdout",
          "text": [
            "[1]\n",
            "[1, 2]\n"
          ]
        }
      ]
    },
    {
      "cell_type": "markdown",
      "source": [
        "Решение:"
      ],
      "metadata": {
        "id": "Y4I6OsBrS4Ug"
      }
    },
    {
      "cell_type": "code",
      "source": [
        "def add_item(item, lst=None):\n",
        "    if lst is None:\n",
        "        lst = []\n",
        "    lst.append(item)\n",
        "    return lst\n",
        "print(add_item(1))  # [1]\n",
        "print(add_item(2))  # [1, 2]"
      ],
      "metadata": {
        "colab": {
          "base_uri": "https://localhost:8080/"
        },
        "id": "L9ZyxeQvAGsY",
        "outputId": "b5bd8742-db17-471e-9398-cb8937f1fe37"
      },
      "execution_count": 62,
      "outputs": [
        {
          "output_type": "stream",
          "name": "stdout",
          "text": [
            "[1]\n",
            "[2]\n"
          ]
        }
      ]
    },
    {
      "cell_type": "markdown",
      "source": [
        "Примеры работы:"
      ],
      "metadata": {
        "id": "AJxc1ZMkT8Zy"
      }
    },
    {
      "cell_type": "code",
      "source": [
        "# result = split_numbers(\"1 2 3 4 5\")  # (1, 2, 3, 4, 5)\n",
        "# result2 = split_numbers(\"1 -2 3 -4 5\")  # (1, -2, 3, -4, 5)"
      ],
      "metadata": {
        "id": "_a633mi7UAfi"
      },
      "execution_count": 65,
      "outputs": []
    },
    {
      "cell_type": "code",
      "source": [
        "def split_numbers(numbers):\n",
        "    # 1. Разбиваем строку по пробелам → [\"1\", \"2\", \"3\"]\n",
        "    parts = numbers.split()\n",
        "\n",
        "    # 2. Преобразуем каждую строку в число → [1, 2, 3]\n",
        "    nums = [int(num) for num in parts]  # или nums = list(map(int, parts))\n",
        "\n",
        "    # 3. Преобразуем список в кортеж → (1, 2, 3)\n",
        "    return tuple(nums)"
      ],
      "metadata": {
        "id": "MYiVG8RyULCE"
      },
      "execution_count": 66,
      "outputs": []
    },
    {
      "cell_type": "code",
      "source": [
        "def split_numbers(numbers):\n",
        "    return tuple(map(int, numbers.split())) # этот вариант короче"
      ],
      "metadata": {
        "id": "7yLc42nHUUjh"
      },
      "execution_count": 67,
      "outputs": []
    },
    {
      "cell_type": "markdown",
      "source": [
        "🔹 7. Что дальше?\n",
        "Когда освоишь функции, переходи к Уровню 5: Обработка ошибок и отладка (try-except, логирование).\n",
        "\n",
        "Совет: Попробуй написать:\n",
        "\n",
        "Калькулятор с функциями для каждой операции (add, subtract и т.д.).\n",
        "\n",
        "Функцию, которая принимает список чисел и возвращает только уникальные элементы."
      ],
      "metadata": {
        "id": "XDow3hxhTjkq"
      }
    },
    {
      "cell_type": "markdown",
      "source": [
        "##1. Обработка ошибок: try-except\n",
        "Базовый синтаксис"
      ],
      "metadata": {
        "id": "en_fv0W6U8aD"
      }
    },
    {
      "cell_type": "code",
      "source": [
        "# try:\n",
        "#     # Код, который может вызвать ошибку\n",
        "# except ТипОшибки:\n",
        "#     # Что делать, если ошибка произошла"
      ],
      "metadata": {
        "id": "CNJwcAxXS-_Z"
      },
      "execution_count": 68,
      "outputs": []
    },
    {
      "cell_type": "markdown",
      "source": [
        "Пример 1: Деление на ноль"
      ],
      "metadata": {
        "id": "cd3jLbuYVLok"
      }
    },
    {
      "cell_type": "code",
      "source": [
        "try:\n",
        "    result = 10 / 0\n",
        "except ZeroDivisionError:\n",
        "    print(\"Ошибка: деление на ноль!\")"
      ],
      "metadata": {
        "colab": {
          "base_uri": "https://localhost:8080/"
        },
        "id": "CxytQOo5VDpJ",
        "outputId": "24310474-5280-4163-a81b-01ffd7757919"
      },
      "execution_count": 69,
      "outputs": [
        {
          "output_type": "stream",
          "name": "stdout",
          "text": [
            "Ошибка: деление на ноль!\n"
          ]
        }
      ]
    },
    {
      "cell_type": "markdown",
      "source": [
        "Пример 2: Обработка нескольких ошибок"
      ],
      "metadata": {
        "id": "eylddgYGVTRP"
      }
    },
    {
      "cell_type": "code",
      "source": [
        "try:\n",
        "    num = int(input(\"Введите число: \"))\n",
        "    print(10 / num)\n",
        "except ValueError:\n",
        "    print(\"Это не число!\")\n",
        "except ZeroDivisionError:\n",
        "    print(\"Нельзя делить на ноль!\")"
      ],
      "metadata": {
        "colab": {
          "base_uri": "https://localhost:8080/"
        },
        "id": "wXEsDkNTVOzD",
        "outputId": "a0766936-979f-432b-b7c4-37aa7b01784b"
      },
      "execution_count": 70,
      "outputs": [
        {
          "output_type": "stream",
          "name": "stdout",
          "text": [
            "Введите число: 2\n",
            "5.0\n"
          ]
        }
      ]
    },
    {
      "cell_type": "markdown",
      "source": [
        "Полезные блоки: else и finally"
      ],
      "metadata": {
        "id": "r-KhCx3xVhkp"
      }
    },
    {
      "cell_type": "code",
      "source": [
        "try:\n",
        "    print(\"Пытаемся открыть файл...\")\n",
        "    file = open(\"test.txt\", \"r\")\n",
        "except FileNotFoundError:\n",
        "    print(\"Файл не найден!\")\n",
        "else:\n",
        "    print(\"Файл успешно открыт!\")  # Выполняется, если нет ошибок\n",
        "    file.close()\n",
        "finally:\n",
        "    print(\"Это выполнится в любом случае\")  # Например, для закрытия ресурсов"
      ],
      "metadata": {
        "colab": {
          "base_uri": "https://localhost:8080/"
        },
        "id": "GPliLdRcVXKJ",
        "outputId": "8a756ff7-d198-45ab-cf76-d24de0e8f1f2"
      },
      "execution_count": 71,
      "outputs": [
        {
          "output_type": "stream",
          "name": "stdout",
          "text": [
            "Пытаемся открыть файл...\n",
            "Файл не найден!\n",
            "Это выполнится в любом случае\n"
          ]
        }
      ]
    },
    {
      "cell_type": "markdown",
      "source": [
        "🔹 2. Отладка с помощью print()\n",
        "Когда использовать?\n",
        "Чтобы проверить значение переменной в определённой точке.\n",
        "\n",
        "Чтобы понять, выполняется ли блок кода.\n",
        "\n",
        "Пример отладки цикла"
      ],
      "metadata": {
        "id": "lc8YWU1MVut_"
      }
    },
    {
      "cell_type": "code",
      "source": [
        "numbers = [1, 2, 3, \"4\", 5]\n",
        "for num in numbers:\n",
        "    print(f\"Текущее число: {num}\")  # Отладочный вывод\n",
        "    try:\n",
        "        print(10 / num)\n",
        "    except TypeError:\n",
        "        print(\"Ошибка типа!\")"
      ],
      "metadata": {
        "colab": {
          "base_uri": "https://localhost:8080/"
        },
        "id": "8HPa8tNoVlQR",
        "outputId": "f9476d24-7e4d-4c49-f9b7-0472eaf81102"
      },
      "execution_count": 72,
      "outputs": [
        {
          "output_type": "stream",
          "name": "stdout",
          "text": [
            "Текущее число: 1\n",
            "10.0\n",
            "Текущее число: 2\n",
            "5.0\n",
            "Текущее число: 3\n",
            "3.3333333333333335\n",
            "Текущее число: 4\n",
            "Ошибка типа!\n",
            "Текущее число: 5\n",
            "2.0\n"
          ]
        }
      ]
    },
    {
      "cell_type": "markdown",
      "source": [
        "Советы по отладке:\n",
        "Добавляй пояснения: print(f\"DEBUG: x = {x}\").\n",
        "\n",
        "Удаляй или комментируй отладочные print() после исправления ошибок.\n",
        "\n",
        "🔹 3. Чтение Traceback (стека вызовов)\n",
        "Пример ошибки"
      ],
      "metadata": {
        "id": "iCnqZN5pWDvP"
      }
    },
    {
      "cell_type": "code",
      "source": [
        "# def calculate(a, b):\n",
        "#     return a / b\n",
        "\n",
        "# def main():\n",
        "#     result = calculate(10, 0)\n",
        "#     print(result)\n",
        "\n",
        "# main()"
      ],
      "metadata": {
        "id": "zy8EFOlpV0lp"
      },
      "execution_count": 74,
      "outputs": []
    },
    {
      "cell_type": "markdown",
      "source": [
        "Как читать?\n",
        "Последняя строка: Тип ошибки (ZeroDivisionError) и её описание.\n",
        "\n",
        "Стек вызовов:\n",
        "\n",
        "Ошибка произошла в строке 2 (calculate).\n",
        "\n",
        "Функция была вызвана в строке 5 (main).\n",
        "\n",
        "Программа стартовала в строке 7.\n",
        "\n",
        "Типичные ошибки и их причины\n",
        "Ошибка\tПример\tПричина\n",
        "ZeroDivisionError\t10 / 0\tДеление на ноль\n",
        "TypeError\t\"10\" + 5\tНесовместимые типы\n",
        "NameError\tprint(undeclared_var)\tПеременная не объявлена\n",
        "IndexError\tlist[10]\tВыход за границы списка\n",
        "FileNotFoundError\topen(\"missing.txt\")\tФайл не существует"
      ],
      "metadata": {
        "id": "XesNXYNyWT25"
      }
    },
    {
      "cell_type": "markdown",
      "source": [
        "🔹 4. Практика (задания)\n",
        "Задание 1: Обработка ошибок\n",
        "Напиши код, который:\n",
        "\n",
        "Запрашивает у пользователя число.\n",
        "\n",
        "Выводит квадрат числа.\n",
        "\n",
        "Обрабатывает ошибку, если введено не число.\n",
        "\n",
        "<details> <summary>✅ Ответ</summary> <pre> try: num = float(input(\"Введите число: \")) print(f\"Квадрат числа: {num ** 2}\") except ValueError: print(\"Ошибка: нужно ввести число!\") </pre> </details>\n",
        "Задание 2: Анализ Traceback\n",
        "Дан код:"
      ],
      "metadata": {
        "id": "S8v03_2jWZTp"
      }
    },
    {
      "cell_type": "code",
      "source": [
        "# def get_value(data, key):\n",
        "#     return data[key]\n",
        "\n",
        "# data = {\"name\": \"Alice\"}\n",
        "# print(get_value(data, \"age\"))"
      ],
      "metadata": {
        "id": "ijN5EtqtWIMJ"
      },
      "execution_count": 76,
      "outputs": []
    },
    {
      "cell_type": "markdown",
      "source": [
        "Какая ошибка возникнет? Как её исправить?\n",
        "\n",
        "<details> <summary>✅ Ответ</summary> <pre> Ошибка: KeyError: 'age' (ключ не существует в словаре). Исправление: def get_value(data, key): return data.get(key, \"Не найдено\") # Вернёт None или значение по умолчанию </pre> </details>\n",
        "Задание 3: Отладка цикла\n",
        "В этом коде есть ошибка. Найди её с помощью print():"
      ],
      "metadata": {
        "id": "r2MH1ylEWmvU"
      }
    },
    {
      "cell_type": "code",
      "source": [
        "# numbers = [1, 2, \"3\", 4]\n",
        "# total = 0\n",
        "# for num in numbers:\n",
        "#     total += num\n",
        "# print(total)"
      ],
      "metadata": {
        "id": "tK7ezpXnWfnZ"
      },
      "execution_count": 78,
      "outputs": []
    },
    {
      "cell_type": "markdown",
      "source": [
        "<details> <summary>✅ Ответ</summary> <pre> numbers = [1, 2, \"3\", 4] total = 0 for num in numbers: print(f\"Тип: {type(num)}, значение: {num}\") # Отладка try: total += num except TypeError: print(f\"Пропускаем {num} — это не число\") print(total) # 7 </pre> </details>\n",
        "🔹 5. Инструменты для продвинутой отладки\n",
        "1. Логирование (модуль logging)"
      ],
      "metadata": {
        "id": "3_FGcP19WxC4"
      }
    },
    {
      "cell_type": "code",
      "source": [
        "import logging\n",
        "logging.basicConfig(level=logging.DEBUG)\n",
        "\n",
        "def divide(a, b):\n",
        "    logging.debug(f\"Попытка деления {a} на {b}\")\n",
        "    try:\n",
        "        return a / b\n",
        "    except ZeroDivisionError:\n",
        "        logging.error(\"Деление на ноль!\")\n",
        "        return None"
      ],
      "metadata": {
        "id": "c99IC0RTWq0w"
      },
      "execution_count": 79,
      "outputs": []
    },
    {
      "cell_type": "markdown",
      "source": [
        "2. Отладчик pdb"
      ],
      "metadata": {
        "id": "XXM5tAYzW4Ug"
      }
    },
    {
      "cell_type": "code",
      "source": [
        "import pdb\n",
        "\n",
        "def buggy_function():\n",
        "    pdb.set_trace()  # Точка останова\n",
        "    x = 10\n",
        "    y = 0\n",
        "    return x / y"
      ],
      "metadata": {
        "id": "UpxYP-DCW1Mg"
      },
      "execution_count": 80,
      "outputs": []
    },
    {
      "cell_type": "markdown",
      "source": [
        "Команды pdb:\n",
        "\n",
        "n — следующая строка.\n",
        "\n",
        "c — продолжить выполнение.\n",
        "\n",
        "q — выход.\n",
        "\n",
        "3. IDE-инструменты\n",
        "VSCode: Встроенный дебаггер (F5).\n",
        "\n",
        "PyCharm: Отладка с визуализацией переменных.\n",
        "\n",
        "🔹 6. Главные правила отладки\n",
        "Читай Traceback внимательно — он указывает на проблему.\n",
        "\n",
        "Сужай круг поиска — изолируй проблемный код.\n",
        "\n",
        "Проверяй типы переменных — print(type(x)).\n",
        "\n",
        "Используй try-except для предсказуемых ошибок (ввод пользователя, работа с файлами).\n",
        "\n",
        "Пиши тесты — чтобы ошибки не возвращались.\n",
        "\n",
        "🔹 7. Что дальше?\n",
        "Когда освоишь отладку, переходи к Уровню 6: Работа с файлами и модулями.\n",
        "Совет: Попробуй написать:\n",
        "\n",
        "Программу, которая читает числа из файла и обрабатывает ошибки (например, если файл не существует).\n",
        "\n",
        "Калькулятор с обработкой всех возможных ошибок ввода."
      ],
      "metadata": {
        "id": "3CmlNS5kXGjx"
      }
    },
    {
      "cell_type": "code",
      "source": [],
      "metadata": {
        "id": "GGyMUdJHW834"
      },
      "execution_count": null,
      "outputs": []
    }
  ]
}