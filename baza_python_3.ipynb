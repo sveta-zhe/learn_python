{
  "nbformat": 4,
  "nbformat_minor": 0,
  "metadata": {
    "colab": {
      "provenance": []
    },
    "kernelspec": {
      "name": "python3",
      "display_name": "Python 3"
    },
    "language_info": {
      "name": "python"
    }
  },
  "cells": [
    {
      "cell_type": "markdown",
      "source": [
        "#Списковые включения (List Comprehensions)\n",
        " Это мощный и лаконичный способ создания списков в Python. Они делают код чище и часто работают быстрее обычных циклов. Давайте разберём их максимально подробно с примерами."
      ],
      "metadata": {
        "id": "5Bi3xMiHJMkU"
      }
    },
    {
      "cell_type": "markdown",
      "source": [
        "###🔹 1. Базовый синтаксис\n",
        "Формат:"
      ],
      "metadata": {
        "id": "MbeYEAqQJZ-D"
      }
    },
    {
      "cell_type": "code",
      "execution_count": null,
      "metadata": {
        "id": "WO7d5ErVICKy"
      },
      "outputs": [],
      "source": [
        "[выражение for элемент in итерируемый_объект]"
      ]
    },
    {
      "cell_type": "markdown",
      "source": [
        "Пример 1: Квадраты чисел\n",
        "Обычный способ:"
      ],
      "metadata": {
        "id": "SyGsMJqcJ1k4"
      }
    },
    {
      "cell_type": "code",
      "source": [
        "squares = []\n",
        "for x in range(5):\n",
        "    squares.append(x ** 2)\n",
        "print(squares)  # [0, 1, 4, 9, 16]"
      ],
      "metadata": {
        "id": "dItnQQZHJVgk"
      },
      "execution_count": null,
      "outputs": []
    },
    {
      "cell_type": "markdown",
      "source": [
        "Через списковое включение:"
      ],
      "metadata": {
        "id": "AWKP8DPOJ9w6"
      }
    },
    {
      "cell_type": "code",
      "source": [
        "squares = [x ** 2 for x in range(5)]\n",
        "print(squares)  # [0, 1, 4, 9, 16]"
      ],
      "metadata": {
        "id": "uIEC_WBCJ-SU"
      },
      "execution_count": null,
      "outputs": []
    },
    {
      "cell_type": "markdown",
      "source": [
        "###🔹 2. Фильтрация элементов\n",
        "Формат с условием if:"
      ],
      "metadata": {
        "id": "paACSMvEKH1K"
      }
    },
    {
      "cell_type": "code",
      "source": [
        "[выражение for элемент in итерируемый_объект if условие]"
      ],
      "metadata": {
        "id": "HgROf_U8KIXs"
      },
      "execution_count": null,
      "outputs": []
    },
    {
      "cell_type": "markdown",
      "source": [
        "Пример 2: Чётные числа\n",
        "Обычный способ:"
      ],
      "metadata": {
        "id": "dKtJgCc6Kt1X"
      }
    },
    {
      "cell_type": "code",
      "source": [
        "evens = []\n",
        "for x in range(10):\n",
        "    if x % 2 == 0:\n",
        "        evens.append(x)\n",
        "print(evens)  # [0, 2, 4, 6, 8]"
      ],
      "metadata": {
        "id": "WJV8y2kBKucU"
      },
      "execution_count": null,
      "outputs": []
    },
    {
      "cell_type": "markdown",
      "source": [
        "Через списковое включение:"
      ],
      "metadata": {
        "id": "PB-A3rBYKzyW"
      }
    },
    {
      "cell_type": "code",
      "source": [
        "evens = [x for x in range(10) if x % 2 == 0]\n",
        "print(evens)  # [0, 2, 4, 6, 8]"
      ],
      "metadata": {
        "colab": {
          "base_uri": "https://localhost:8080/"
        },
        "id": "NuAs-bk6K0QE",
        "outputId": "4b380f29-0003-4fc3-8c6f-11ca13a1adab"
      },
      "execution_count": 2,
      "outputs": [
        {
          "output_type": "stream",
          "name": "stdout",
          "text": [
            "[0, 2, 4, 6, 8]\n"
          ]
        }
      ]
    },
    {
      "cell_type": "markdown",
      "source": [
        "###🔹 3. Вложенные циклы\n",
        "Пример 3: Декартово произведение\n",
        "Обычный способ:"
      ],
      "metadata": {
        "id": "HNI9gcqhLm6p"
      }
    },
    {
      "cell_type": "code",
      "source": [
        "pairs = []\n",
        "for x in [1, 2]:\n",
        "    for y in ['a', 'b']:\n",
        "        pairs.append((x, y))\n",
        "print(pairs)  # [(1, 'a'), (1, 'b'), (2, 'a'), (2, 'b')]"
      ],
      "metadata": {
        "id": "GHADpcGWK4Y9"
      },
      "execution_count": null,
      "outputs": []
    },
    {
      "cell_type": "markdown",
      "source": [
        "Через списковое включение:"
      ],
      "metadata": {
        "id": "9QgMc8sPNmC0"
      }
    },
    {
      "cell_type": "code",
      "source": [
        "pairs = [(x, y) for x in [1, 2] for y in ['a', 'b']]\n",
        "print(pairs)  # [(1, 'a'), (1, 'b'), (2, 'a'), (2, 'b')]"
      ],
      "metadata": {
        "id": "Y0JV2rGDNmzU"
      },
      "execution_count": null,
      "outputs": []
    },
    {
      "cell_type": "markdown",
      "source": [
        "###🔹 4. Условные выражения (if-else)\n",
        "Формат:"
      ],
      "metadata": {
        "id": "8zbXKBxtN2J2"
      }
    },
    {
      "cell_type": "code",
      "source": [
        "[выражение1 if условие else выражение2 for элемент in итерируемый_объект]"
      ],
      "metadata": {
        "id": "VnTVz0KnN4o8"
      },
      "execution_count": null,
      "outputs": []
    },
    {
      "cell_type": "markdown",
      "source": [
        "Пример 4: Замена отрицательных чисел на 0"
      ],
      "metadata": {
        "id": "N4fRLfcIOPkp"
      }
    },
    {
      "cell_type": "code",
      "source": [
        "numbers = [1, -2, 3, -4, 5]\n",
        "processed = [x if x >= 0 else 0 for x in numbers]\n",
        "print(processed)  # [1, 0, 3, 0, 5]"
      ],
      "metadata": {
        "colab": {
          "base_uri": "https://localhost:8080/"
        },
        "id": "6OmALoNWOSTc",
        "outputId": "e95ac734-d498-4488-b9a1-f0fec90926e6"
      },
      "execution_count": 3,
      "outputs": [
        {
          "output_type": "stream",
          "name": "stdout",
          "text": [
            "[1, 0, 3, 0, 5]\n"
          ]
        }
      ]
    },
    {
      "cell_type": "markdown",
      "source": [
        "###🔹 5. Множественные условия\n",
        "Пример 5: Классификация чисел"
      ],
      "metadata": {
        "id": "krpbtg7sOjNm"
      }
    },
    {
      "cell_type": "code",
      "source": [
        "numbers = [0, 1, 2, 3, 4, 5]\n",
        "classified = [\n",
        "    \"ноль\" if x == 0 else\n",
        "    \"чётное\" if x % 2 == 0 else\n",
        "    \"нечётное\"\n",
        "    for x in numbers\n",
        "]\n",
        "print(classified)  # ['ноль', 'нечётное', 'чётное', 'нечётное', 'чётное', 'нечётное']"
      ],
      "metadata": {
        "colab": {
          "base_uri": "https://localhost:8080/"
        },
        "id": "jfDHzhoUOZc1",
        "outputId": "386e4d0c-cbd0-4458-cd89-005f7831eb7a"
      },
      "execution_count": 4,
      "outputs": [
        {
          "output_type": "stream",
          "name": "stdout",
          "text": [
            "['ноль', 'нечётное', 'чётное', 'нечётное', 'чётное', 'нечётное']\n"
          ]
        }
      ]
    },
    {
      "cell_type": "markdown",
      "source": [
        "###🔹 6. Вложенные списковые включения\n",
        "Пример 6: Транспонирование матрицы\n",
        "Обычный способ:"
      ],
      "metadata": {
        "id": "sXz7EjsJS_7e"
      }
    },
    {
      "cell_type": "code",
      "source": [
        "matrix = [\n",
        "    [1, 2, 3],\n",
        "    [4, 5, 6],\n",
        "    [7, 8, 9]\n",
        "]\n",
        "transposed = []\n",
        "for i in range(3):\n",
        "    transposed_row = []\n",
        "    for row in matrix:\n",
        "        transposed_row.append(row[i])\n",
        "    transposed.append(transposed_row)\n",
        "print(transposed)  # [[1, 4, 7], [2, 5, 8], [3, 6, 9]]"
      ],
      "metadata": {
        "colab": {
          "base_uri": "https://localhost:8080/"
        },
        "id": "UM6ZymaOS7it",
        "outputId": "941995b5-a2f6-4284-caee-9bc13f011e2a"
      },
      "execution_count": 5,
      "outputs": [
        {
          "output_type": "stream",
          "name": "stdout",
          "text": [
            "[[1, 4, 7], [2, 5, 8], [3, 6, 9]]\n"
          ]
        }
      ]
    },
    {
      "cell_type": "markdown",
      "source": [
        "Через списковое включение:"
      ],
      "metadata": {
        "id": "UpHeK0JBTQC2"
      }
    },
    {
      "cell_type": "code",
      "source": [
        "matrix = [\n",
        "    [1, 2, 3],\n",
        "    [4, 5, 6],\n",
        "    [7, 8, 9]\n",
        "]\n",
        "transposed = [[row[i] for row in matrix] for i in range(3)]\n",
        "print(transposed)  # [[1, 4, 7], [2, 5, 8], [3, 6, 9]]"
      ],
      "metadata": {
        "colab": {
          "base_uri": "https://localhost:8080/"
        },
        "id": "FINNAgJwTLLM",
        "outputId": "061cdc04-d667-40c5-8d03-a9c22491fc53"
      },
      "execution_count": 6,
      "outputs": [
        {
          "output_type": "stream",
          "name": "stdout",
          "text": [
            "[[1, 4, 7], [2, 5, 8], [3, 6, 9]]\n"
          ]
        }
      ]
    },
    {
      "cell_type": "markdown",
      "source": [
        "###🔹 7. Практические примеры\n",
        "Пример 7: Извлечение гласных из строки"
      ],
      "metadata": {
        "id": "9WAAouG2TZnW"
      }
    },
    {
      "cell_type": "code",
      "source": [
        "sentence = \"Hello, World!\"\n",
        "vowels = [char for char in sentence if char.lower() in 'aeiou']\n",
        "print(vowels)  # ['e', 'o', 'o']"
      ],
      "metadata": {
        "colab": {
          "base_uri": "https://localhost:8080/"
        },
        "id": "pLXYMoTQTVoE",
        "outputId": "c67df5f2-c1fd-4ded-f215-de6dddcfd05b"
      },
      "execution_count": 1,
      "outputs": [
        {
          "output_type": "stream",
          "name": "stdout",
          "text": [
            "['e', 'o', 'o']\n"
          ]
        }
      ]
    },
    {
      "cell_type": "markdown",
      "source": [
        "Пример 8: Разделение строк на слова"
      ],
      "metadata": {
        "id": "NcNnF7QRF5Ct"
      }
    },
    {
      "cell_type": "code",
      "source": [
        "lines = [\"Hello world\", \"Python is great\", \"Goodbye\"]\n",
        "words = [word for line in lines for word in line.split()]\n",
        "print(words)  # ['Hello', 'world', 'Python', 'is', 'great', 'Goodbye']"
      ],
      "metadata": {
        "colab": {
          "base_uri": "https://localhost:8080/"
        },
        "id": "A5MtyLHxDFAS",
        "outputId": "9af66849-99be-4489-8dc9-bcb324b14c9b"
      },
      "execution_count": 2,
      "outputs": [
        {
          "output_type": "stream",
          "name": "stdout",
          "text": [
            "['Hello', 'world', 'Python', 'is', 'great', 'Goodbye']\n"
          ]
        }
      ]
    },
    {
      "cell_type": "markdown",
      "source": [
        "###🔹 8. Ограничения и советы\n",
        "Не злоупотребляйте вложенностью\n",
        "Если списковое включение становится сложным, лучше использовать обычный цикл.\n",
        "\n",
        "Генераторы vs списки\n",
        "Для экономии памяти используйте генераторы ((x for x in range(10))), если не нужен весь список сразу.\n",
        "\n",
        "Читаемость\n",
        "Код должен оставаться понятным. Если списковое включение ухудшает читаемость — не используйте его.\n",
        "\n",
        "###🔹 9. Практические задания\n",
        "Задание 1: Квадраты чётных чисел\n",
        "Создайте список квадратов чётных чисел от 0 до 10.\n",
        "\n",
        "<details> <summary>✅ Ответ</summary> <pre> squares = [x ** 2 for x in range(11) if x % 2 == 0] print(squares) # [0, 4, 16, 36, 64, 100] </pre> </details>\n",
        "Задание 2: Уникальные символы\n",
        "Дан список строк. Получите список уникальных символов из всех строк.\n",
        "\n",
        "<details> <summary>✅ Ответ</summary> <pre> lines = [\"abc\", \"bcd\", \"cde\"] unique_chars = list({char for line in lines for char in line}) print(unique_chars) # ['a', 'b', 'c', 'd', 'e'] </pre> </details>\n",
        "Задание 3: Фильтрация словаря\n",
        "Дан словарь {'a': 1, 'b': 2, 'c': 3, 'd': 4}. Создайте список ключей, где значение > 2.\n",
        "\n",
        "<details> <summary>✅ Ответ</summary> <pre> d = {'a': 1, 'b': 2, 'c': 3, 'd': 4} keys = [k for k, v in d.items() if v > 2] print(keys) # ['c', 'd'] </pre> </details>\n",
        "\n",
        "###🔹 10. Вариации для других структур\n",
        "Множества (Set Comprehensions)"
      ],
      "metadata": {
        "id": "tYRO31VaGJ30"
      }
    },
    {
      "cell_type": "code",
      "source": [
        "unique_squares = {x ** 2 for x in [-2, -1, 0, 1, 2]}\n",
        "print(unique_squares)  # {0, 1, 4}"
      ],
      "metadata": {
        "colab": {
          "base_uri": "https://localhost:8080/"
        },
        "id": "UwYFMtqqGDg9",
        "outputId": "a5f1b223-7fc4-49ca-a8d7-b782e111bcee"
      },
      "execution_count": 3,
      "outputs": [
        {
          "output_type": "stream",
          "name": "stdout",
          "text": [
            "{0, 1, 4}\n"
          ]
        }
      ]
    },
    {
      "cell_type": "markdown",
      "source": [
        "Словари (Dict Comprehensions)"
      ],
      "metadata": {
        "id": "IrvLFV4UGilf"
      }
    },
    {
      "cell_type": "code",
      "source": [
        "square_dict = {x: x ** 2 for x in range(5)}\n",
        "print(square_dict)  # {0: 0, 1: 1, 2: 4, 3: 9, 4: 16}"
      ],
      "metadata": {
        "colab": {
          "base_uri": "https://localhost:8080/"
        },
        "id": "93dBUdUMGbrs",
        "outputId": "55e08325-72d2-44e9-8181-5b38f0a36f67"
      },
      "execution_count": 4,
      "outputs": [
        {
          "output_type": "stream",
          "name": "stdout",
          "text": [
            "{0: 0, 1: 1, 2: 4, 3: 9, 4: 16}\n"
          ]
        }
      ]
    },
    {
      "cell_type": "markdown",
      "source": [
        "#Лямбда-функции (lambda) в Python\n",
        "Это анонимные (безымянные) функции, которые можно создавать \"на лету\". Они особенно полезны для коротких операций, где объявление обычной функции было бы избыточным. Давайте разберём их максимально подробно."
      ],
      "metadata": {
        "id": "eAj5A1HwcFpA"
      }
    },
    {
      "cell_type": "markdown",
      "source": [
        "###🔹 1. Базовый синтаксис\n",
        "Формат:"
      ],
      "metadata": {
        "id": "5cEQAaAHcQ5c"
      }
    },
    {
      "cell_type": "code",
      "source": [
        "lambda аргументы: выражение"
      ],
      "metadata": {
        "id": "zSusEqkKGlxT"
      },
      "execution_count": null,
      "outputs": []
    },
    {
      "cell_type": "markdown",
      "source": [
        "Пример 1: Простая лямбда"
      ],
      "metadata": {
        "id": "v3SdJyuecZhM"
      }
    },
    {
      "cell_type": "code",
      "source": [
        "# Обычная функция\n",
        "def square(x):\n",
        "    return x ** 2\n",
        "\n",
        "# Лямбда-аналог\n",
        "square_lambda = lambda x: x ** 2\n",
        "\n",
        "print(square(5))          # 25\n",
        "print(square_lambda(5))   # 25"
      ],
      "metadata": {
        "id": "WwS9-RogcaWZ"
      },
      "execution_count": null,
      "outputs": []
    },
    {
      "cell_type": "markdown",
      "source": [
        "Ключевые особенности:\n",
        "\n",
        "Лямбда всегда возвращает результат выражения (не нужен return).\n",
        "\n",
        "Не может содержать блоки кода (только одно выражение).\n",
        "\n",
        "Часто используется внутри других функций (map, filter, sort).\n",
        "\n",
        "###🔹 2. Использование с map()\n",
        "Пример 2: Умножение элементов списка"
      ],
      "metadata": {
        "id": "VVEQJUfSchwu"
      }
    },
    {
      "cell_type": "code",
      "source": [
        "numbers = [1, 2, 3, 4]\n",
        "\n",
        "# Обычный способ\n",
        "def double(x):\n",
        "    return x * 2\n",
        "result = list(map(double, numbers))\n",
        "\n",
        "# Через лямбду\n",
        "result_lambda = list(map(lambda x: x * 2, numbers))\n",
        "\n",
        "print(result)         # [2, 4, 6, 8]\n",
        "print(result_lambda)  # [2, 4, 6, 8]"
      ],
      "metadata": {
        "id": "zfWt1pfrclZ4"
      },
      "execution_count": null,
      "outputs": []
    },
    {
      "cell_type": "markdown",
      "source": [
        "###🔹 3. Использование с filter()\n",
        "Пример 3: Фильтрация чётных чисел"
      ],
      "metadata": {
        "id": "kKGFQTOtcwnO"
      }
    },
    {
      "cell_type": "code",
      "source": [
        "numbers = [1, 2, 3, 4, 5, 6]\n",
        "\n",
        "# Обычная функция\n",
        "def is_even(x):\n",
        "    return x % 2 == 0\n",
        "evens = list(filter(is_even, numbers))\n",
        "\n",
        "# Через лямбду\n",
        "evens_lambda = list(filter(lambda x: x % 2 == 0, numbers))\n",
        "\n",
        "print(evens)          # [2, 4, 6]\n",
        "print(evens_lambda)   # [2, 4, 6]"
      ],
      "metadata": {
        "id": "Wf4Wethicy3J"
      },
      "execution_count": null,
      "outputs": []
    },
    {
      "cell_type": "markdown",
      "source": [
        "###🔹 4. Сортировка с лямбдой\n",
        "Пример 4: Сортировка списка словарей"
      ],
      "metadata": {
        "id": "nOkQIviKh-Od"
      }
    },
    {
      "cell_type": "code",
      "source": [
        "users = [\n",
        "    {\"name\": \"Alice\", \"age\": 25},\n",
        "    {\"name\": \"Bob\", \"age\": 30},\n",
        "    {\"name\": \"Charlie\", \"age\": 20}\n",
        "]\n",
        "\n",
        "# Сортировка по возрасту\n",
        "users_sorted = sorted(users, key=lambda user: user[\"age\"])\n",
        "print(users_sorted)\n",
        "# [{'name': 'Charlie', 'age': 20}, {'name': 'Alice', 'age': 25}, {'name': 'Bob', 'age': 30}]"
      ],
      "metadata": {
        "id": "dhfY7ugBiAc5"
      },
      "execution_count": null,
      "outputs": []
    },
    {
      "cell_type": "markdown",
      "source": [
        "Пример 5: Сортировка строк по длине"
      ],
      "metadata": {
        "id": "HpN37xkRiOJt"
      }
    },
    {
      "cell_type": "code",
      "source": [
        "words = [\"apple\", \"banana\", \"cherry\", \"date\"]\n",
        "words_sorted = sorted(words, key=lambda x: len(x))\n",
        "print(words_sorted)  # ['date', 'apple', 'banana', 'cherry']"
      ],
      "metadata": {
        "colab": {
          "base_uri": "https://localhost:8080/"
        },
        "id": "Dum2hRn5iO7x",
        "outputId": "c85e9bda-fbc0-4df0-96fc-951a38414a33"
      },
      "execution_count": 5,
      "outputs": [
        {
          "output_type": "stream",
          "name": "stdout",
          "text": [
            "['date', 'apple', 'banana', 'cherry']\n"
          ]
        }
      ]
    },
    {
      "cell_type": "markdown",
      "source": [
        "###🔹 5. Лямбда с несколькими аргументами\n",
        "Пример 6: Сумма двух чисел"
      ],
      "metadata": {
        "id": "SogRzGC3igJx"
      }
    },
    {
      "cell_type": "code",
      "source": [
        "add = lambda a, b: a + b\n",
        "print(add(3, 5))  # 8"
      ],
      "metadata": {
        "colab": {
          "base_uri": "https://localhost:8080/"
        },
        "id": "QIXlphAIiSkR",
        "outputId": "9b289fb2-5599-44e0-bd8b-ab0d768d925a"
      },
      "execution_count": 6,
      "outputs": [
        {
          "output_type": "stream",
          "name": "stdout",
          "text": [
            "8\n"
          ]
        }
      ]
    },
    {
      "cell_type": "markdown",
      "source": [
        "Пример 7: Форматирование строки"
      ],
      "metadata": {
        "id": "DdgYImnbipOm"
      }
    },
    {
      "cell_type": "code",
      "source": [
        "greet = lambda name, age: f\"{name} is {age} years old\"\n",
        "print(greet(\"Alice\", 25))  # \"Alice is 25 years old\""
      ],
      "metadata": {
        "colab": {
          "base_uri": "https://localhost:8080/"
        },
        "id": "y1uisO0filRx",
        "outputId": "c8a0a805-46f6-4464-e01f-669e1bcc0067"
      },
      "execution_count": 7,
      "outputs": [
        {
          "output_type": "stream",
          "name": "stdout",
          "text": [
            "Alice is 25 years old\n"
          ]
        }
      ]
    },
    {
      "cell_type": "markdown",
      "source": [
        "###🔹 6. Лямбда в callback-функциях\n",
        "Пример 8: Обработка событий (GUI)"
      ],
      "metadata": {
        "id": "COPCy0vFiwSB"
      }
    },
    {
      "cell_type": "code",
      "source": [
        "# Псевдокод для tkinter\n",
        "button = Button(text=\"Click\", command=lambda: print(\"Button clicked!\"))"
      ],
      "metadata": {
        "id": "HDconLNtis5p"
      },
      "execution_count": null,
      "outputs": []
    },
    {
      "cell_type": "markdown",
      "source": [
        "###🔹 7. Ограничения лямбд\n",
        "Только одно выражение\n",
        "Нельзя использовать if-elif-else (только тернарный оператор), циклы или return."
      ],
      "metadata": {
        "id": "A8Ou-1g1i9OL"
      }
    },
    {
      "cell_type": "code",
      "source": [
        "# Ошибка!\n",
        "lambda x: if x > 0: return x else: return -x  # SyntaxError\n",
        "\n",
        "# Правильно (через тернарный оператор)\n",
        "lambda x: x if x > 0 else -x"
      ],
      "metadata": {
        "id": "8gJiQ81Ti-7p"
      },
      "execution_count": null,
      "outputs": []
    },
    {
      "cell_type": "markdown",
      "source": [
        "Нет аннотаций типов"
      ],
      "metadata": {
        "id": "TIYcTnWejG9L"
      }
    },
    {
      "cell_type": "code",
      "source": [
        "# Ошибка!\n",
        "lambda x: int: x * 2  # SyntaxError"
      ],
      "metadata": {
        "id": "08w5afnzjHfx"
      },
      "execution_count": null,
      "outputs": []
    },
    {
      "cell_type": "markdown",
      "source": [
        "Сложность\n",
        "Если логика сложная — используйте обычную функцию.\n",
        "\n",
        "###🔹 8. Продвинутые примеры\n",
        "Пример 9: Замыкания"
      ],
      "metadata": {
        "id": "8T8eZ3nXjNV_"
      }
    },
    {
      "cell_type": "code",
      "source": [
        "def multiplier(n):\n",
        "    return lambda x: x * n\n",
        "\n",
        "double = multiplier(2)\n",
        "triple = multiplier(3)\n",
        "\n",
        "print(double(5))  # 10\n",
        "print(triple(5))  # 15"
      ],
      "metadata": {
        "id": "pgMcpALljO_R"
      },
      "execution_count": null,
      "outputs": []
    },
    {
      "cell_type": "markdown",
      "source": [
        "Пример 10: Лямбда в списковых включениях"
      ],
      "metadata": {
        "id": "L0j-8JvijTqP"
      }
    },
    {
      "cell_type": "code",
      "source": [
        "funcs = [(lambda x: x + i) for i in range(3)]\n",
        "print(funcs[0](10))  # 12 (если i=2) — но осторожно с замыканиями!"
      ],
      "metadata": {
        "id": "iNTiLsqljUMR"
      },
      "execution_count": null,
      "outputs": []
    },
    {
      "cell_type": "markdown",
      "source": [
        "Проблема: В примере выше все лямбды захватывают последнее значение i.\n",
        "Решение:"
      ],
      "metadata": {
        "id": "-g6CWHZLjZOb"
      }
    },
    {
      "cell_type": "code",
      "source": [
        "funcs = [(lambda x, i=i: x + i) for i in range(3)]\n",
        "print(funcs[0](10))  # 10 (i=0)"
      ],
      "metadata": {
        "id": "hcuazIGIjZuB"
      },
      "execution_count": null,
      "outputs": []
    },
    {
      "cell_type": "markdown",
      "source": [
        "🔹 9. Практические задания\n",
        "Задание 1: Возведение в степень\n",
        "Создайте лямбду, которая принимает число и степень, возвращает число в этой степени.\n",
        "\n",
        "<details> <summary>✅ Ответ</summary> <pre> power = lambda x, y: x ** y print(power(2, 3)) # 8 </pre> </details>\n",
        "Задание 2: Фильтрация строк\n",
        "Дан список строк. Отфильтруйте строки длиной больше 5 символов.\n",
        "\n",
        "<details> <summary>✅ Ответ</summary> <pre> words = [\"apple\", \"banana\", \"cherry\", \"date\"] filtered = list(filter(lambda x: len(x) > 5, words)) print(filtered) # ['banana', 'cherry'] </pre> </details>\n",
        "Задание 3: Сортировка по последней букве\n",
        "Отсортируйте список слов по последней букве каждого слова.\n",
        "\n",
        "<details> <summary>✅ Ответ</summary> <pre> words = [\"apple\", \"banana\", \"cherry\", \"date\"] sorted_words = sorted(words, key=lambda x: x[-1]) print(sorted_words) # ['banana', 'apple', 'date', 'cherry'] </pre> </details>\n",
        "🔹 10. Когда использовать лямбды?\n",
        "Короткие операции (1-2 строки).\n",
        "\n",
        "Функции, которые используются 1 раз.\n",
        "\n",
        "Аргументы для map/filter/sorted.\n",
        "\n",
        "Callback-функции (например, в GUI).\n",
        "\n",
        "Не используйте лямбды, если:\n",
        "\n",
        "Код становится менее читаемым.\n",
        "\n",
        "Нужны сложные конструкции (if-elif-else, циклы).\n",
        "\n",
        "Функция используется многократно (лучше def)."
      ],
      "metadata": {
        "id": "vV1V0iXZjgp_"
      }
    }
  ]
}