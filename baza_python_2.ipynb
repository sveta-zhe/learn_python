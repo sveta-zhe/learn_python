{
  "nbformat": 4,
  "nbformat_minor": 0,
  "metadata": {
    "colab": {
      "provenance": []
    },
    "kernelspec": {
      "name": "python3",
      "display_name": "Python 3"
    },
    "language_info": {
      "name": "python"
    }
  },
  "cells": [
    {
      "cell_type": "markdown",
      "source": [
        "##1. Работа с файлами"
      ],
      "metadata": {
        "id": "7N509dDqr9rQ"
      }
    },
    {
      "cell_type": "markdown",
      "source": [
        "Работа с файлами и модулями. Это ключевой навык для создания сложных программ, которые взаимодействуют с внешними данными и используют готовый код. Разберём всё максимально подробно с примерами."
      ],
      "metadata": {
        "id": "Kvj_YxB1sGlV"
      }
    },
    {
      "cell_type": "markdown",
      "source": [
        "1.1 Основные режимы открытия файлов"
      ],
      "metadata": {
        "id": "ID7BvAK_sh9y"
      }
    },
    {
      "cell_type": "markdown",
      "source": [
        "Режим\tОписание\n",
        "'r'\tЧтение (по умолчанию)\n",
        "'w'\tЗапись (перезаписывает файл)\n",
        "'a'\tДозапись в конец файла\n",
        "'x'\tСоздание файла (ошибка, если существует)\n",
        "'b'\tБинарный режим ('rb', 'wb')\n",
        "'+'\tЧтение и запись ('r+', 'w+')\n"
      ],
      "metadata": {
        "id": "TVh0CzeisN9Z"
      }
    },
    {
      "cell_type": "markdown",
      "source": [
        "1.2 Чтение из файла"
      ],
      "metadata": {
        "id": "1DNujIRjsVjz"
      }
    },
    {
      "cell_type": "code",
      "execution_count": 2,
      "metadata": {
        "id": "BhFoWPWkr09Y"
      },
      "outputs": [],
      "source": [
        "# Способ 1: read() - читает весь файл\n",
        "with open('example.txt', 'r', encoding='utf-8') as file:\n",
        "    content = file.read()\n",
        "print(content)\n",
        "\n",
        "# Способ 2: построчное чтение\n",
        "with open('example.txt', 'r') as file:\n",
        "    for line in file:\n",
        "        print(line.strip())  # strip() убирает \\n в конце строки"
      ]
    },
    {
      "cell_type": "markdown",
      "source": [
        "1.3 Запись в файл"
      ],
      "metadata": {
        "id": "kMoqdt-qs2Xn"
      }
    },
    {
      "cell_type": "code",
      "source": [
        "# Перезапись файла\n",
        "with open('output.txt', 'w') as file:\n",
        "    file.write(\"Первая строка\\n\")\n",
        "    file.write(\"Вторая строка\\n\")\n",
        "\n",
        "# Дозапись\n",
        "with open('output.txt', 'a') as file:\n",
        "    file.write(\"Третья строка\\n\")"
      ],
      "metadata": {
        "id": "UeNS82TssA4m"
      },
      "execution_count": null,
      "outputs": []
    },
    {
      "cell_type": "markdown",
      "source": [
        "1.4 Работа с JSON"
      ],
      "metadata": {
        "id": "nengvbAeCj-4"
      }
    },
    {
      "cell_type": "code",
      "source": [
        "import json\n",
        "\n",
        "# Запись JSON\n",
        "data = {\"name\": \"Alice\", \"age\": 25}\n",
        "with open('data.json', 'w') as file:\n",
        "    json.dump(data, file, indent=4)\n",
        "\n",
        "# Чтение JSON\n",
        "with open('data.json', 'r') as file:\n",
        "    loaded_data = json.load(file)\n",
        "print(loaded_data['name'])  # Alice"
      ],
      "metadata": {
        "colab": {
          "base_uri": "https://localhost:8080/"
        },
        "id": "EaycxHE1CodL",
        "outputId": "7db70b11-8c67-4dfd-8010-f4c522003963"
      },
      "execution_count": 1,
      "outputs": [
        {
          "output_type": "stream",
          "name": "stdout",
          "text": [
            "Alice\n"
          ]
        }
      ]
    },
    {
      "cell_type": "markdown",
      "source": [
        "🔹 2. Модули и импорты\n",
        "2.1 Создание своего модуля\n",
        "Файл my_module.py:"
      ],
      "metadata": {
        "id": "Sbsb7bupC1Wp"
      }
    },
    {
      "cell_type": "code",
      "source": [
        "def greet(name):\n",
        "    return f\"Привет, {name}!\"\n",
        "\n",
        "PI = 3.1415"
      ],
      "metadata": {
        "id": "UBSLxDwsCuz1"
      },
      "execution_count": 2,
      "outputs": []
    },
    {
      "cell_type": "markdown",
      "source": [
        "2.2 Импорт модуля"
      ],
      "metadata": {
        "id": "kN7T1yx3DApG"
      }
    },
    {
      "cell_type": "code",
      "source": [
        "# Способ 1: Импорт всего модуля\n",
        "import my_module\n",
        "print(my_module.greet(\"Анна\"))  # Привет, Анна!\n",
        "print(my_module.PI)  # 3.1415\n",
        "\n",
        "# Способ 2: Импорт конкретных объектов\n",
        "from my_module import greet, PI\n",
        "print(greet(\"Пётр\"))  # Привет, Пётр!\n",
        "\n",
        "# Способ 3: Импорт с псевдонимом\n",
        "import my_module as mm\n",
        "print(mm.PI)  # 3.1415"
      ],
      "metadata": {
        "id": "aWyOw1epDD--"
      },
      "execution_count": null,
      "outputs": []
    },
    {
      "cell_type": "markdown",
      "source": [
        "2.3 Стандартные модули Python"
      ],
      "metadata": {
        "id": "bwdzyU3wDO7p"
      }
    },
    {
      "cell_type": "code",
      "source": [
        "import math\n",
        "print(math.sqrt(16))  # 4.0\n",
        "\n",
        "from datetime import datetime\n",
        "print(datetime.now())  # Текущая дата и время\n",
        "\n",
        "import random\n",
        "print(random.randint(1, 10))  # Случайное число от 1 до 10"
      ],
      "metadata": {
        "id": "7Av5BvYQDPon"
      },
      "execution_count": null,
      "outputs": []
    },
    {
      "cell_type": "markdown",
      "source": [
        "🔹 3. Пакеты (папки с модулями)\n",
        "3.1 Структура пакета"
      ],
      "metadata": {
        "id": "WEZSGRVfDU_J"
      }
    },
    {
      "cell_type": "code",
      "source": [
        "my_package/\n",
        "    __init__.py  # Может быть пустым\n",
        "    module1.py\n",
        "    module2.py\n",
        "    subpackage/\n",
        "        __init__.py\n",
        "        utils.py"
      ],
      "metadata": {
        "id": "rSbKb8ohDVg_"
      },
      "execution_count": null,
      "outputs": []
    },
    {
      "cell_type": "markdown",
      "source": [
        "3.2 Импорт из пакета"
      ],
      "metadata": {
        "id": "lDUhmmUvDb_M"
      }
    },
    {
      "cell_type": "code",
      "source": [
        "from my_package import module1\n",
        "from my_package.subpackage import utils"
      ],
      "metadata": {
        "id": "Opb25lvNDe-I"
      },
      "execution_count": null,
      "outputs": []
    },
    {
      "cell_type": "markdown",
      "source": [
        "🔹 4. Виртуальные окружения\n",
        "4.1 Создание и активация"
      ],
      "metadata": {
        "id": "5XGedt95DjKA"
      }
    },
    {
      "cell_type": "code",
      "source": [
        "# Создание\n",
        "python -m venv myenv\n",
        "\n",
        "# Активация (Linux/Mac)\n",
        "source myenv/bin/activate\n",
        "\n",
        "# Активация (Windows)\n",
        "myenv\\Scripts\\activate"
      ],
      "metadata": {
        "id": "0Tx554T4Djpw"
      },
      "execution_count": null,
      "outputs": []
    },
    {
      "cell_type": "markdown",
      "source": [
        "4.2 Установка пакетов"
      ],
      "metadata": {
        "id": "3I6PRHM8DqDW"
      }
    },
    {
      "cell_type": "code",
      "source": [
        "pip install requests  # Установка пакета\n",
        "pip freeze > requirements.txt  # Сохранение зависимостей\n",
        "pip install -r requirements.txt  # Установка из файла"
      ],
      "metadata": {
        "id": "3EMH7Wa8Dr5S"
      },
      "execution_count": null,
      "outputs": []
    },
    {
      "cell_type": "markdown",
      "source": [
        "🔹 5. Практика (задания)\n",
        "Задание 1: Работа с файлами\n",
        "Создай файл notes.txt, запиши в него 3 строки с заметками, затем прочитай и выведи содержимое.\n",
        "\n",
        "<details> <summary>✅ Ответ</summary> <pre> # Запись with open('notes.txt', 'w') as file: file.write(\"Купить молоко\\n\") file.write(\"Позвонить маме\\n\") file.write(\"Сделать ДЗ по Python\\n\")\n",
        "Чтение\n",
        "with open('notes.txt', 'r') as file:\n",
        "print(file.read())\n",
        "</pre>\n",
        "\n",
        "</details>\n",
        "Задание 2: Обработка CSV\n",
        "Дан CSV-файл data.csv:"
      ],
      "metadata": {
        "id": "FLkAhDd2DyZU"
      }
    },
    {
      "cell_type": "code",
      "source": [
        "name,age\n",
        "Alice,25\n",
        "Bob,30"
      ],
      "metadata": {
        "id": "KLx_MpH5Dy8J"
      },
      "execution_count": null,
      "outputs": []
    },
    {
      "cell_type": "markdown",
      "source": [
        "Прочитай его и выведи возраст Alice.\n",
        "\n",
        "<details> <summary>✅ Ответ</summary> <pre> import csv\n",
        "with open('data.csv', 'r') as file:\n",
        "reader = csv.DictReader(file)\n",
        "for row in reader:\n",
        "if row['name'] == 'Alice':\n",
        "print(row['age']) # 25\n",
        "</pre>\n",
        "\n",
        "</details>\n",
        "Задание 3: Свой модуль\n",
        "Создай модуль calculator.py с функциями add(a, b) и subtract(a, b). Импортируй его в основной скрипт и используй.\n",
        "\n",
        "<details> <summary>✅ Ответ</summary> <pre> # calculator.py def add(a, b): return a + b\n",
        "def subtract(a, b):\n",
        "return a - b\n",
        "\n",
        "main.py\n",
        "from calculator import add, subtract\n",
        "\n",
        "print(add(5, 3)) # 8\n",
        "print(subtract(5, 3)) # 2\n",
        "</pre>\n",
        "\n",
        "</details>"
      ],
      "metadata": {
        "id": "Y6hIiY8iD76D"
      }
    },
    {
      "cell_type": "markdown",
      "source": [
        "🔹 6. Обработка ошибок при работе с файлами"
      ],
      "metadata": {
        "id": "sbYvFSIiEVzR"
      }
    },
    {
      "cell_type": "code",
      "source": [
        "try:\n",
        "    with open('missing.txt', 'r') as file:\n",
        "        content = file.read()\n",
        "except FileNotFoundError:\n",
        "    print(\"Файл не найден!\")\n",
        "except PermissionError:\n",
        "    print(\"Нет прав доступа!\")\n",
        "except Exception as e:\n",
        "    print(f\"Неизвестная ошибка: {e}\")"
      ],
      "metadata": {
        "colab": {
          "base_uri": "https://localhost:8080/"
        },
        "id": "xRMJLe8GD8ci",
        "outputId": "0b0d72ed-6773-4400-9378-b276fe835328"
      },
      "execution_count": 5,
      "outputs": [
        {
          "output_type": "stream",
          "name": "stdout",
          "text": [
            "Файл не найден!\n"
          ]
        }
      ]
    },
    {
      "cell_type": "markdown",
      "source": [
        "🔹 7. Полезные модули стандартной библиотеки"
      ],
      "metadata": {
        "id": "3SsXWt_8EePN"
      }
    },
    {
      "cell_type": "markdown",
      "source": [
        "Модуль\tОписание\n",
        "os\tРабота с файловой системой\n",
        "sys\tСистемные параметры\n",
        "shutil\tФайловые операции\n",
        "pathlib\tСовременный путь к файлам\n",
        "csv\tРабота с CSV\n",
        "json\tРабота с JSON\n",
        "pickle\tСериализация объектов"
      ],
      "metadata": {
        "id": "dUtX3RkyEhli"
      }
    },
    {
      "cell_type": "markdown",
      "source": [
        "🔹 8. Что дальше?\n",
        "Когда освоишь работу с файлами и модулями, можно переходить к:\n",
        "\n",
        "Уровень 7: ООП (классы и объекты)\n",
        "\n",
        "Уровень 8: Работа с сетью (requests, API)\n",
        "\n",
        "Уровень 9: Базы данных (SQLite, SQLAlchemy)\n",
        "\n",
        "Совет: Попробуй создать:\n",
        "\n",
        "Программу для ведения дневника (запись/чтение заметок в файл).\n",
        "\n",
        "Пакет с несколькими модулями для решения математических задач."
      ],
      "metadata": {
        "id": "DxAkXBNdErCa"
      }
    },
    {
      "cell_type": "markdown",
      "source": [
        "##🔹 Уровень 7: ООП (Классы и объекты)"
      ],
      "metadata": {
        "id": "kCa8oQn-FDQF"
      }
    },
    {
      "cell_type": "markdown",
      "source": [
        "1. Основные концепции\n",
        "Класс — чертёж объекта (например, Человек)\n",
        "\n",
        "Объект — экземпляр класса (например, Петя = Человек())\n",
        "\n",
        "Атрибуты — данные объекта (имя, возраст)\n",
        "\n",
        "Методы — функции объекта (говорить, идти)\n",
        "\n",
        "2. Создание класса"
      ],
      "metadata": {
        "id": "KK2xiu_IFLdx"
      }
    },
    {
      "cell_type": "code",
      "source": [
        "class Dog:\n",
        "    # Конструктор (инициализатор)\n",
        "    def __init__(self, name, age):\n",
        "        self.name = name  # Атрибут\n",
        "        self.age = age\n",
        "\n",
        "    # Метод\n",
        "    def bark(self):\n",
        "        print(f\"{self.name} говорит: Гав!\")\n",
        "\n",
        "# Создание объекта\n",
        "my_dog = Dog(\"Бобик\", 3)\n",
        "my_dog.bark()  # Бобик говорит: Гав!"
      ],
      "metadata": {
        "colab": {
          "base_uri": "https://localhost:8080/"
        },
        "id": "k8X6Cr5HEZc9",
        "outputId": "072ac8d4-b725-4266-cb6d-db8a43568621"
      },
      "execution_count": 6,
      "outputs": [
        {
          "output_type": "stream",
          "name": "stdout",
          "text": [
            "Бобик говорит: Гав!\n"
          ]
        }
      ]
    },
    {
      "cell_type": "markdown",
      "source": [
        "3. Наследование"
      ],
      "metadata": {
        "id": "2jcQ0KxqGFSH"
      }
    },
    {
      "cell_type": "code",
      "source": [
        "class Animal:\n",
        "    def __init__(self, name):\n",
        "        self.name = name\n",
        "\n",
        "    def eat(self):\n",
        "        print(f\"{self.name} ест\")\n",
        "\n",
        "class Cat(Animal):  # Наследуем от Animal\n",
        "    def meow(self):\n",
        "        print(f\"{self.name} говорит: Мяу!\")\n",
        "\n",
        "my_cat = Cat(\"Мурзик\")\n",
        "my_cat.eat()  # Мурзик ест\n",
        "my_cat.meow() # Мурзик говорит: Мяу!"
      ],
      "metadata": {
        "colab": {
          "base_uri": "https://localhost:8080/"
        },
        "id": "tY5kNtLSFO7o",
        "outputId": "b61d173b-236f-4c8f-863f-e0591ed207ff"
      },
      "execution_count": 7,
      "outputs": [
        {
          "output_type": "stream",
          "name": "stdout",
          "text": [
            "Мурзик ест\n",
            "Мурзик говорит: Мяу!\n"
          ]
        }
      ]
    },
    {
      "cell_type": "markdown",
      "source": [
        "4. Инкапсуляция (приватные атрибуты)"
      ],
      "metadata": {
        "id": "d_5RPW1kGYZg"
      }
    },
    {
      "cell_type": "code",
      "source": [
        "class BankAccount:\n",
        "    def __init__(self):\n",
        "        self.__balance = 0  # Приватный атрибут\n",
        "\n",
        "    def deposit(self, amount):\n",
        "        self.__balance += amount\n",
        "\n",
        "    def get_balance(self):\n",
        "        return self.__balance\n",
        "\n",
        "account = BankAccount()\n",
        "account.deposit(100)\n",
        "print(account.get_balance())  # 100\n",
        "# print(account.__balance)  # Ошибка!"
      ],
      "metadata": {
        "id": "Rqr7G5d6GJnj"
      },
      "execution_count": null,
      "outputs": []
    },
    {
      "cell_type": "markdown",
      "source": [
        "5. Полиморфизм"
      ],
      "metadata": {
        "id": "Jfal9051GdTh"
      }
    },
    {
      "cell_type": "code",
      "source": [
        "class Bird:\n",
        "    def fly(self):\n",
        "        print(\"Птица летит\")\n",
        "\n",
        "class Airplane:\n",
        "    def fly(self):\n",
        "        print(\"Самолёт летит\")\n",
        "\n",
        "def make_fly(obj):\n",
        "    obj.fly()\n",
        "\n",
        "make_fly(Bird())      # Птица летит\n",
        "make_fly(Airplane())  # Самолёт летит"
      ],
      "metadata": {
        "colab": {
          "base_uri": "https://localhost:8080/"
        },
        "id": "yBwE2eTkGd2F",
        "outputId": "617b6036-1189-4c17-94bf-cbcbc4be5b01"
      },
      "execution_count": 8,
      "outputs": [
        {
          "output_type": "stream",
          "name": "stdout",
          "text": [
            "Птица летит\n",
            "Самолёт летит\n"
          ]
        }
      ]
    },
    {
      "cell_type": "markdown",
      "source": [
        "##🔹 Уровень 8: Работа с сетью (requests, API)\n",
        "1. Установка библиотеки"
      ],
      "metadata": {
        "id": "6W4oLydPGrH6"
      }
    },
    {
      "cell_type": "code",
      "source": [
        "pip install requests"
      ],
      "metadata": {
        "id": "p6hIj69sGg0t"
      },
      "execution_count": null,
      "outputs": []
    },
    {
      "cell_type": "markdown",
      "source": [
        "2. GET-запрос к API"
      ],
      "metadata": {
        "id": "6I4XfUFIGz6E"
      }
    },
    {
      "cell_type": "code",
      "source": [
        "import requests\n",
        "\n",
        "# Пример с JSONPlaceholder\n",
        "response = requests.get(\"https://jsonplaceholder.typicode.com/posts/1\")\n",
        "data = response.json()  # Автоматическое преобразование JSON в dict\n",
        "\n",
        "print(data[\"title\"])  # \"sunt aut facere repellat provident occaecati excepturi optio reprehenderit\""
      ],
      "metadata": {
        "id": "hkKf9uldG0dt"
      },
      "execution_count": null,
      "outputs": []
    },
    {
      "cell_type": "markdown",
      "source": [
        "3. POST-запрос с данными"
      ],
      "metadata": {
        "id": "znsJ7kiIHBKp"
      }
    },
    {
      "cell_type": "code",
      "source": [
        "new_post = {\n",
        "    \"title\": \"Мой пост\",\n",
        "    \"body\": \"Содержание поста\",\n",
        "    \"userId\": 1\n",
        "}\n",
        "\n",
        "response = requests.post(\n",
        "    \"https://jsonplaceholder.typicode.com/posts\",\n",
        "    json=new_post  # Автоматическая сериализация в JSON\n",
        ")\n",
        "print(response.status_code)  # 201 (Created)"
      ],
      "metadata": {
        "id": "JUpnED9lHFBf"
      },
      "execution_count": null,
      "outputs": []
    },
    {
      "cell_type": "markdown",
      "source": [
        "4. Обработка ошибок"
      ],
      "metadata": {
        "id": "GlPyqdA7HJaH"
      }
    },
    {
      "cell_type": "code",
      "source": [
        "try:\n",
        "    response = requests.get(\"https://jsonplaceholder.typicode.com/nonexistent\")\n",
        "    response.raise_for_status()  # Вызовет исключение для 4xx/5xx кодов\n",
        "except requests.exceptions.HTTPError as err:\n",
        "    print(f\"Ошибка HTTP: {err}\")\n",
        "except requests.exceptions.RequestException as err:\n",
        "    print(f\"Ошибка запроса: {err}\")"
      ],
      "metadata": {
        "id": "AoeHdJ1KHMPH"
      },
      "execution_count": null,
      "outputs": []
    },
    {
      "cell_type": "markdown",
      "source": [
        "5. Пример: Погодный API (OpenWeatherMap)\n"
      ],
      "metadata": {
        "id": "d1AAmC_EHQGx"
      }
    },
    {
      "cell_type": "code",
      "source": [
        "import requests\n",
        "\n",
        "API_KEY = \"ваш_ключ\"\n",
        "city = \"Moscow\"\n",
        "\n",
        "response = requests.get(\n",
        "    f\"http://api.openweathermap.org/data/2.5/weather?q={city}&appid={API_KEY}&units=metric\"\n",
        ")\n",
        "data = response.json()\n",
        "\n",
        "print(f\"Температура в {city}: {data['main']['temp']}°C\")"
      ],
      "metadata": {
        "id": "LhvFrgtuHU7I"
      },
      "execution_count": null,
      "outputs": []
    },
    {
      "cell_type": "markdown",
      "source": [
        "##🔹 Уровень 9: Базы данных (SQLite, SQLAlchemy)\n",
        "1. SQLite: Работа без ORM"
      ],
      "metadata": {
        "id": "-6m4v1ovHcSq"
      }
    },
    {
      "cell_type": "code",
      "source": [
        "import sqlite3\n",
        "\n",
        "# Подключение к БД (создаст файл, если его нет)\n",
        "conn = sqlite3.connect(\"example.db\")\n",
        "cursor = conn.cursor()\n",
        "\n",
        "# Создание таблицы\n",
        "cursor.execute(\"\"\"\n",
        "CREATE TABLE IF NOT EXISTS users (\n",
        "    id INTEGER PRIMARY KEY AUTOINCREMENT,\n",
        "    name TEXT NOT NULL,\n",
        "    age INTEGER\n",
        ")\n",
        "\"\"\")\n",
        "\n",
        "# Вставка данных\n",
        "cursor.execute(\"INSERT INTO users (name, age) VALUES (?, ?)\", (\"Анна\", 25))\n",
        "conn.commit()  # Не забываем сохранять!\n",
        "\n",
        "# Чтение данных\n",
        "cursor.execute(\"SELECT * FROM users\")\n",
        "for row in cursor.fetchall():\n",
        "    print(row)  # (1, 'Анна', 25)\n"
      ],
      "metadata": {
        "colab": {
          "base_uri": "https://localhost:8080/"
        },
        "id": "YPRkmQuWHdwo",
        "outputId": "dd793ba7-e14f-40c3-e392-bf7b4cba69f2"
      },
      "execution_count": 12,
      "outputs": [
        {
          "output_type": "stream",
          "name": "stdout",
          "text": [
            "(1, 'Анна', 25)\n"
          ]
        }
      ]
    },
    {
      "cell_type": "markdown",
      "source": [
        "2. SQLAlchemy (ORM)\n",
        "2.1 Установка"
      ],
      "metadata": {
        "id": "6i2ruBtGISTW"
      }
    },
    {
      "cell_type": "code",
      "source": [
        "pip install sqlalchemy"
      ],
      "metadata": {
        "id": "trNYLE00IPWK"
      },
      "execution_count": null,
      "outputs": []
    },
    {
      "cell_type": "markdown",
      "source": [
        "2.3 CRUD-операции"
      ],
      "metadata": {
        "id": "bB9nN9ixIXbO"
      }
    },
    {
      "cell_type": "code",
      "source": [
        "# Create\n",
        "new_user = User(name=\"Пётр\", age=30)\n",
        "session.add(new_user)\n",
        "session.commit()\n",
        "\n",
        "# Read\n",
        "users = session.query(User).filter(User.age > 20).all()\n",
        "for user in users:\n",
        "    print(user.name, user.age)\n",
        "\n",
        "# Update\n",
        "user = session.query(User).filter_by(name=\"Пётр\").first()\n",
        "user.age = 31\n",
        "session.commit()\n",
        "\n",
        "# Delete\n",
        "session.delete(user)\n",
        "session.commit()"
      ],
      "metadata": {
        "id": "Ezesqa_pIX8j"
      },
      "execution_count": null,
      "outputs": []
    },
    {
      "cell_type": "markdown",
      "source": [
        "3. Пример: Блог (SQLAlchemy)"
      ],
      "metadata": {
        "id": "HQXiij9KIepE"
      }
    },
    {
      "cell_type": "code",
      "source": [
        "class Post(Base):\n",
        "    __tablename__ = 'posts'\n",
        "\n",
        "    id = Column(Integer, primary_key=True)\n",
        "    title = Column(String(100))\n",
        "    content = Column(String)\n",
        "    user_id = Column(Integer, ForeignKey('users.id'))\n",
        "\n",
        "    author = relationship(\"User\", back_populates=\"posts\")\n",
        "\n",
        "User.posts = relationship(\"Post\", back_populates=\"author\")\n",
        "\n",
        "# Создание связанных данных\n",
        "user = User(name=\"Анна\")\n",
        "post = Post(title=\"Мой пост\", content=\"Привет, мир!\", author=user)\n",
        "session.add_all([user, post])\n",
        "session.commit()\n",
        "\n",
        "# Получение постов пользователя\n",
        "for post in user.posts:\n",
        "    print(post.title)"
      ],
      "metadata": {
        "id": "iBafykG0IfO0"
      },
      "execution_count": null,
      "outputs": []
    },
    {
      "cell_type": "markdown",
      "source": [
        "🔹 Практические задания\n",
        "Задание 7.1: Класс \"Книга\"\n",
        "Создай класс Book с атрибутами title, author и методом info(), который выводит данные о книге.\n",
        "\n",
        "<details> <summary>✅ Ответ</summary> <pre> class Book: def __init__(self, title, author): self.title = title self.author = author\n",
        "Copy\n",
        "def info(self):\n",
        "    print(f\"'{self.title}' by {self.author}\")\n",
        "book = Book(\"1984\", \"Оруэлл\")\n",
        "book.info() # '1984' by Оруэлл\n",
        "</pre>\n",
        "\n",
        "</details>"
      ],
      "metadata": {
        "id": "lqv57g2JInaJ"
      }
    },
    {
      "cell_type": "markdown",
      "source": [
        "Задание 8.1: Запрос к GitHub API\n",
        "Напиши код, который получает список репозиториев пользователя на GitHub.\n",
        "\n",
        "<details> <summary>✅ Ответ</summary> <pre> import requests\n",
        "username = \"torvalds\" # Создатель Linux\n",
        "response = requests.get(f\"https://api.github.com/users/{username}/repos\")\n",
        "\n",
        "for repo in response.json():\n",
        "print(repo[\"name\"])\n",
        "</pre>\n",
        "\n",
        "</details>\n",
        "Задание 9.1: База данных задач\n",
        "Создай SQLite-таблицу tasks с полями id, description, is_done. Напиши функции для добавления и отметки выполнения задач.\n",
        "\n",
        "<details> <summary>✅ Ответ</summary> <pre> import sqlite3\n",
        "def add_task(description):\n",
        "conn = sqlite3.connect(\"tasks.db\")\n",
        "cursor = conn.cursor()\n",
        "cursor.execute(\"INSERT INTO tasks (description, is_done) VALUES (?, ?)\",\n",
        "(description, False))\n",
        "conn.commit()\n",
        "conn.close()\n",
        "\n",
        "def complete_task(task_id):\n",
        "conn = sqlite3.connect(\"tasks.db\")\n",
        "cursor = conn.cursor()\n",
        "cursor.execute(\"UPDATE tasks SET is_done = ? WHERE id = ?\",\n",
        "(True, task_id))\n",
        "conn.commit()\n",
        "conn.close()\n",
        "\n",
        "Инициализация БД\n",
        "conn = sqlite3.connect(\"tasks.db\")\n",
        "conn.execute(\"CREATE TABLE IF NOT EXISTS tasks (id INTEGER PRIMARY KEY, description TEXT, is_done BOOLEAN)\")\n",
        "conn.close()\n",
        "</pre>\n",
        "\n",
        "</details>\n",
        "🔹 Что дальше?\n",
        "После освоения этих уровней ты сможешь:\n",
        "\n",
        "Создавать сложные программы с ООП\n",
        "\n",
        "Работать с внешними API (Telegram, VK, погода)\n",
        "\n",
        "Строить веб-приложения (Flask/Django + SQLAlchemy)\n",
        "\n",
        "Совет: Начни с проекта \"Личный дневник\" (консольное приложение с классами, SQLite и экспортом в JSON)."
      ],
      "metadata": {
        "id": "9NSLxgfnI2ma"
      }
    }
  ]
}